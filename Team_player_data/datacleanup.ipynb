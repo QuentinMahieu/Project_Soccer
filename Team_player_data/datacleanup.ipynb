{
 "metadata": {
  "language_info": {
   "codemirror_mode": {
    "name": "ipython",
    "version": 3
   },
   "file_extension": ".py",
   "mimetype": "text/x-python",
   "name": "python",
   "nbconvert_exporter": "python",
   "pygments_lexer": "ipython3",
   "version": "3.6.10-final"
  },
  "orig_nbformat": 2,
  "kernelspec": {
   "name": "python_defaultSpec_1601601567687",
   "display_name": "Python 3.6.10 64-bit"
  }
 },
 "nbformat": 4,
 "nbformat_minor": 2,
 "cells": [
  {
   "cell_type": "code",
   "execution_count": 1,
   "metadata": {
    "tags": []
   },
   "outputs": [],
   "source": [
    "#Import the modules\n",
    "import pandas as pd\n",
    "pd.set_option('display.max_columns', None)\n",
    "# file paths to files\n",
    "#players\n",
    "path_2015 = \"raw/players_15.csv\"\n",
    "path_2016 = \"raw/players_16.csv\"\n",
    "path_2017 = \"raw/players_17.csv\"\n",
    "path_2018 = \"raw/players_18.csv\"\n",
    "path_2019 = \"raw/players_19.csv\"\n",
    "path_2020 = \"raw/players_20.csv\"\n",
    "paths = [path_2015, path_2016,path_2017,path_2018,path_2019,path_2020]\n",
    "#teams\n",
    "path_teams = \"raw/big_five_1995-2019.csv\""
   ]
  },
  {
   "cell_type": "code",
   "execution_count": 2,
   "metadata": {
    "tags": []
   },
   "outputs": [
    {
     "output_type": "stream",
     "name": "stdout",
     "text": "['ENG' 'ESP' 'FR' 'GER' 'IT']\n"
    },
    {
     "output_type": "execute_result",
     "data": {
      "text/plain": "    Year              Teams  Points  Goals+  Goals-\n80  2019          Liverpool      82      40      12\n96  2019    Manchester City      57      33      12\n87  2019     Leicester City      53      30      15\n98  2019            Chelsea      48      22      15\n89  2019  Manchester United      45      29      12",
      "text/html": "<div>\n<style scoped>\n    .dataframe tbody tr th:only-of-type {\n        vertical-align: middle;\n    }\n\n    .dataframe tbody tr th {\n        vertical-align: top;\n    }\n\n    .dataframe thead th {\n        text-align: right;\n    }\n</style>\n<table border=\"1\" class=\"dataframe\">\n  <thead>\n    <tr style=\"text-align: right;\">\n      <th></th>\n      <th>Year</th>\n      <th>Teams</th>\n      <th>Points</th>\n      <th>Goals+</th>\n      <th>Goals-</th>\n    </tr>\n  </thead>\n  <tbody>\n    <tr>\n      <th>80</th>\n      <td>2019</td>\n      <td>Liverpool</td>\n      <td>82</td>\n      <td>40</td>\n      <td>12</td>\n    </tr>\n    <tr>\n      <th>96</th>\n      <td>2019</td>\n      <td>Manchester City</td>\n      <td>57</td>\n      <td>33</td>\n      <td>12</td>\n    </tr>\n    <tr>\n      <th>87</th>\n      <td>2019</td>\n      <td>Leicester City</td>\n      <td>53</td>\n      <td>30</td>\n      <td>15</td>\n    </tr>\n    <tr>\n      <th>98</th>\n      <td>2019</td>\n      <td>Chelsea</td>\n      <td>48</td>\n      <td>22</td>\n      <td>15</td>\n    </tr>\n    <tr>\n      <th>89</th>\n      <td>2019</td>\n      <td>Manchester United</td>\n      <td>45</td>\n      <td>29</td>\n      <td>12</td>\n    </tr>\n  </tbody>\n</table>\n</div>"
     },
     "metadata": {},
     "execution_count": 2
    }
   ],
   "source": [
    "#read the team file to focus on the 3 leagues we want to analyse\n",
    "teams = pd.read_csv(path_teams)\n",
    "\n",
    "#find the 3 leagues for 2015 to 2019\n",
    "country_code = teams[\"Country\"].unique()\n",
    "print(country_code)\n",
    "years = [2015,2016,2017,2018,2019]\n",
    "teams = teams[(teams[\"Country\"].isin([\"ENG\",\"ESP\",\"IT\"]))& (\n",
    "                    teams[\"Year\"].isin(years))]\n",
    "\n",
    "teams = teams[['Team 1','Team 2', 'Year', 'Country',\"FT Team 1\",\"FT Team 2\",'Team 1 (pts)', 'Team 2 (pts)']]\n",
    "\n",
    "eng_teams = teams[teams[\"Country\"]== \"ENG\"]\n",
    "it_teams = teams[teams[\"Country\"]== \"IT\"]\n",
    "spain_teams = teams[teams[\"Country\"]== \"ESP\"]\n",
    "\n",
    "def rankingteams(teams):\n",
    "    ranking = {}\n",
    "    for year in years:\n",
    "        a = teams[teams[\"Year\"]==year]\n",
    "        list = a[\"Team 1\"].unique()\n",
    "        points = [0]*len(list)\n",
    "        goalsp = [0]*len(list)\n",
    "        goalsn = [0]*len(list)\n",
    "        for index,team in enumerate(list):\n",
    "            points[index] += a[a[\"Team 1\"]==team][\"Team 1 (pts)\"].sum()\n",
    "            points[index] += a[a[\"Team 2\"]==team][\"Team 2 (pts)\"].sum()\n",
    "            goalsp[index] += a[a[\"Team 1\"]==team][\"FT Team 1\"].sum()\n",
    "            goalsn[index] += a[a[\"Team 1\"]==team][\"FT Team 2\"].sum()\n",
    "            ranking.setdefault(f\"Year\",[]).append(year)\n",
    "            ranking.setdefault(f\"Teams\",[]).append(team)\n",
    "            ranking.setdefault(f\"Points\",[]).append(points[index])\n",
    "            ranking.setdefault(f\"Goals+\",[]).append(goalsp[index])\n",
    "            ranking.setdefault(f\"Goals-\",[]).append(goalsn[index])\n",
    "    return pd.DataFrame(ranking)\n",
    "ranking_it_df = rankingteams(it_teams)\n",
    "ranking_eng_df = rankingteams(eng_teams)\n",
    "ranking_spain_df = rankingteams(spain_teams)\n",
    "# Ranking england and some preparation to match the teams in the other dataframes\n",
    "ranking_eng_df[\"Teams\"] = ranking_eng_df[\"Teams\"].str.replace(\"\\s$\",\"\")\n",
    "ranking_eng_df[\"Teams\"] = ranking_eng_df[\"Teams\"].str.replace(\"\\s+FC\", \"\")\n",
    "ranking_eng_df[\"Teams\"] = ranking_eng_df[\"Teams\"].str.replace(\"\\s+AFC\", \"\")\n",
    "ranking_eng_df[\"Teams\"] = ranking_eng_df[\"Teams\"].str.replace(\"^AFC\\s\", \"\")\n",
    "ranking_eng_df.sort_values([\"Year\",\"Points\"], ascending = False).head()"
   ]
  },
  {
   "cell_type": "code",
   "execution_count": 3,
   "metadata": {
    "tags": []
   },
   "outputs": [
    {
     "output_type": "execute_result",
     "data": {
      "text/plain": "    Year                     Teams  Points  Goals+  Goals-\n92  2019                  Juventus      63      31      10\n93  2019                  SS Lazio      62      39      10\n89  2019  FC Internazionale Milano      54      23      10\n94  2019                  Atalanta      48      33      19\n84  2019                   AS Roma      45      26      19",
      "text/html": "<div>\n<style scoped>\n    .dataframe tbody tr th:only-of-type {\n        vertical-align: middle;\n    }\n\n    .dataframe tbody tr th {\n        vertical-align: top;\n    }\n\n    .dataframe thead th {\n        text-align: right;\n    }\n</style>\n<table border=\"1\" class=\"dataframe\">\n  <thead>\n    <tr style=\"text-align: right;\">\n      <th></th>\n      <th>Year</th>\n      <th>Teams</th>\n      <th>Points</th>\n      <th>Goals+</th>\n      <th>Goals-</th>\n    </tr>\n  </thead>\n  <tbody>\n    <tr>\n      <th>92</th>\n      <td>2019</td>\n      <td>Juventus</td>\n      <td>63</td>\n      <td>31</td>\n      <td>10</td>\n    </tr>\n    <tr>\n      <th>93</th>\n      <td>2019</td>\n      <td>SS Lazio</td>\n      <td>62</td>\n      <td>39</td>\n      <td>10</td>\n    </tr>\n    <tr>\n      <th>89</th>\n      <td>2019</td>\n      <td>FC Internazionale Milano</td>\n      <td>54</td>\n      <td>23</td>\n      <td>10</td>\n    </tr>\n    <tr>\n      <th>94</th>\n      <td>2019</td>\n      <td>Atalanta</td>\n      <td>48</td>\n      <td>33</td>\n      <td>19</td>\n    </tr>\n    <tr>\n      <th>84</th>\n      <td>2019</td>\n      <td>AS Roma</td>\n      <td>45</td>\n      <td>26</td>\n      <td>19</td>\n    </tr>\n  </tbody>\n</table>\n</div>"
     },
     "metadata": {},
     "execution_count": 3
    }
   ],
   "source": [
    "#ranking Italy, clean and export\n",
    "ranking_it_df[\"Teams\"] = ranking_it_df[\"Teams\"].str.replace(\"^\\s?\",\"\")\n",
    "ranking_it_df[\"Teams\"] = ranking_it_df[\"Teams\"].str.replace(\"\\s$\",\"\")\n",
    "ranking_it_df[\"Teams\"] = ranking_it_df[\"Teams\"].str.replace(\"\\s+FC\", \"\")\n",
    "ranking_it_df[\"Teams\"] = ranking_it_df[\"Teams\"].str.replace(\"\\s+BC\", \"\")\n",
    "ranking_it_df[\"Teams\"] = ranking_it_df[\"Teams\"].str.replace(\"\\s+CFC\", \"\")\n",
    "ranking_it_df[\"Teams\"] = ranking_it_df[\"Teams\"].str.replace(\"^\\s?UC\", \"\")\n",
    "ranking_it_df[\"Teams\"] = ranking_it_df[\"Teams\"].str.replace(\"^\\s?US\", \"\")\n",
    "ranking_it_df[\"Teams\"] = ranking_it_df[\"Teams\"].str.replace(\"^\\s?SSC\\s?\", \"\")\n",
    "ranking_it_df.sort_values([\"Year\",\"Points\"], ascending = False).head()"
   ]
  },
  {
   "cell_type": "code",
   "execution_count": 8,
   "metadata": {
    "tags": []
   },
   "outputs": [
    {
     "output_type": "execute_result",
     "data": {
      "text/plain": "    Year          Teams  Points  Goals+  Goals-\n95  2019   FC Barcelona      58      45      12\n93  2019    Real Madrid      56      27       9\n96  2019     Sevilla FC      47      19      13\n94  2019      Getafe CF      46      21      13\n97  2019  Real Sociedad      46      27      12",
      "text/html": "<div>\n<style scoped>\n    .dataframe tbody tr th:only-of-type {\n        vertical-align: middle;\n    }\n\n    .dataframe tbody tr th {\n        vertical-align: top;\n    }\n\n    .dataframe thead th {\n        text-align: right;\n    }\n</style>\n<table border=\"1\" class=\"dataframe\">\n  <thead>\n    <tr style=\"text-align: right;\">\n      <th></th>\n      <th>Year</th>\n      <th>Teams</th>\n      <th>Points</th>\n      <th>Goals+</th>\n      <th>Goals-</th>\n    </tr>\n  </thead>\n  <tbody>\n    <tr>\n      <th>95</th>\n      <td>2019</td>\n      <td>FC Barcelona</td>\n      <td>58</td>\n      <td>45</td>\n      <td>12</td>\n    </tr>\n    <tr>\n      <th>93</th>\n      <td>2019</td>\n      <td>Real Madrid</td>\n      <td>56</td>\n      <td>27</td>\n      <td>9</td>\n    </tr>\n    <tr>\n      <th>96</th>\n      <td>2019</td>\n      <td>Sevilla FC</td>\n      <td>47</td>\n      <td>19</td>\n      <td>13</td>\n    </tr>\n    <tr>\n      <th>94</th>\n      <td>2019</td>\n      <td>Getafe CF</td>\n      <td>46</td>\n      <td>21</td>\n      <td>13</td>\n    </tr>\n    <tr>\n      <th>97</th>\n      <td>2019</td>\n      <td>Real Sociedad</td>\n      <td>46</td>\n      <td>27</td>\n      <td>12</td>\n    </tr>\n  </tbody>\n</table>\n</div>"
     },
     "metadata": {},
     "execution_count": 8
    }
   ],
   "source": [
    "#ranking Spain\n",
    "ranking_spain_df[\"Teams\"] = ranking_spain_df[\"Teams\"].str.replace(\"\\s$\",\"\")\n",
    "ranking_spain_df.sort_values([\"Year\",\"Points\"], ascending = False).head()"
   ]
  },
  {
   "cell_type": "code",
   "execution_count": 9,
   "metadata": {},
   "outputs": [],
   "source": [
    "def playersfunc(filepath,year):\n",
    "    players_df = pd.read_csv(filepath)\n",
    "    players_df = players_df[['short_name','age','height_cm','weight_kg','nationality','club','value_eur','overall']]\n",
    "    players_df = players_df.rename({\"club\":\"Teams\"},axis=1)\n",
    "    f = {\"age\":\"mean\", \"height_cm\":\"mean\",\"weight_kg\":\"mean\",\"overall\":\"mean\",\"value_eur\":\"mean\"}\n",
    "    players_df = players_df.groupby(\"Teams\").agg(f)\n",
    "    players_df[\"Year\"]= year\n",
    "    players_df[\"Year\"] = players_df[\"Year\"].astype('int')\n",
    "    players_df = players_df.reset_index()\n",
    "    return players_df\n",
    "def cleanup(df):\n",
    "    df[\"Teams\"] = df[\"Teams\"].str.replace(\"RC Celta\", \"RC Celta Vigo\")\n",
    "    df[\"Teams\"] = df[\"Teams\"].str.replace(\"Real Sporting de Gijón\", \"Sporting Gijón\")\n",
    "    df[\"Teams\"] = df[\"Teams\"].str.replace(\"Athletic Club de Bilbao\", \"Athletic Club Bilbao\")\n",
    "    df[\"Teams\"] = df[\"Teams\"].str.replace(\"Deportivo de La Coruña\", \"RCD La Coruña\")\n",
    "    df[\"Teams\"] = df[\"Teams\"].str.replace(\"Milan\", \"AC Milan\")\n",
    "    df[\"Teams\"] = df[\"Teams\"].str.replace(\"Lazio\", \"SS Lazio\")\n",
    "    df[\"Teams\"] = df[\"Teams\"].str.replace(\"Fiorentina\", \"ACF Fiorentina\")\n",
    "    df[\"Teams\"] = df[\"Teams\"].str.replace(\"Inter\", \"FC Internazionale Milano\")\n",
    "    df[\"Teams\"] = df[\"Teams\"].str.replace(\"Sassuolo\", \"Sassuolo Calcio\")\n",
    "    df[\"Teams\"] = df[\"Teams\"].str.replace(\"Chievo Verona\", \"AC Chievo Verona\")\n",
    "    df[\"Teams\"] = df[\"Teams\"].str.replace(\"Roma\", \"AS Roma\")\n",
    "    df[\"Teams\"] = df[\"Teams\"].str.replace(\"Udinese\", \"Udinese Calcio\")\n",
    "    df[\"Teams\"] = df[\"Teams\"].str.replace(\"Cagliari\", \"Cagliari Calcio\")\n",
    "    df[\"Teams\"] = df[\"Teams\"].str.replace(\"Crotone\", \"FC Crotone\")\n",
    "    return df"
   ]
  },
  {
   "cell_type": "code",
   "execution_count": 10,
   "metadata": {},
   "outputs": [],
   "source": [
    "players_df_2015 = playersfunc(path_2015,2015)\n",
    "players_df_2015 = cleanup(players_df_2015)\n",
    "players_df_2016 = playersfunc(path_2016,2016)\n",
    "players_df_2016 = cleanup(players_df_2016)\n",
    "players_df_2017 = playersfunc(path_2017,2017)\n",
    "players_df_2017 = cleanup(players_df_2017)\n",
    "players_df_2018 = playersfunc(path_2018,2018)\n",
    "players_df_2018 = cleanup(players_df_2018)\n",
    "players_df_2019 = playersfunc(path_2019,2019)\n",
    "players_df_2019 = cleanup(players_df_2019)"
   ]
  },
  {
   "cell_type": "code",
   "execution_count": 11,
   "metadata": {},
   "outputs": [],
   "source": [
    "#append the lists to have 1 data frame\n",
    "players_data = players_df_2015.append([players_df_2016,players_df_2017,players_df_2018,players_df_2019])"
   ]
  },
  {
   "cell_type": "code",
   "execution_count": 12,
   "metadata": {},
   "outputs": [],
   "source": [
    "#merging with the 3 different competitions\n",
    "eng_df = ranking_eng_df.merge(players_data,on=[\"Year\",\"Teams\"],how = \"left\")\n",
    "it_df = ranking_it_df.merge(players_data,on=[\"Year\",\"Teams\"],how = \"left\")\n",
    "spain_df = ranking_spain_df.merge(players_data,on=[\"Year\",\"Teams\"],how = \"left\")\n",
    "#update the latest data\n",
    "eng_df.iloc[-20:,2] = [99,39,34,54,43,34,59,62,44,66,56,35,41,49,21,52,81,54,66,59]\n",
    "eng_df.iloc[-20:,3] = [85,49,40,43,31,36,61,67,38,66,56,41,39,44,26,51,102,39,69,51]\n",
    "eng_df.iloc[-20:,4] = [33,62,65,50,50,64,47,41,58,36,48,67,54,56,75,60,35,39,54,40]\n",
    "spain_df.iloc[-20:,2] = [51,37,53,33,36,60,39,25,41,70,56,49,52,87,54,82,70,56,42,42]\n",
    "spain_df.iloc[-20:,3] = [41,37,46,40,30,63,34,27,48,51,52,47,46,70,43,86,54,56,39,32]\n",
    "spain_df.iloc[-20:,4] = [38,49,53,65,51,49,59,59,60,27,45,53,54,25,37,38,34,48,56,43]\n",
    "it_df.iloc[-20:,2] = [49,49,45,45,70,42,20,40,49,82,47,66,83,78,78,39,35,51,62,25]\n",
    "it_df.iloc[-20:,3] = [56,51,37,52,77,48,27,46,47,81,52,63,76,79,98,47,52,69,61,35]\n",
    "it_df.iloc[-20:,4] = [57,48,51,56,51,65,70,68,51,36,65,46,43,42,48,73,85,63,50,79]"
   ]
  },
  {
   "cell_type": "code",
   "execution_count": 18,
   "metadata": {},
   "outputs": [
    {
     "output_type": "error",
     "ename": "KeyError",
     "evalue": "'age'",
     "traceback": [
      "\u001b[0;31m---------------------------------------------------------------------------\u001b[0m",
      "\u001b[0;31mKeyError\u001b[0m                                  Traceback (most recent call last)",
      "\u001b[0;32m/opt/anaconda3/envs/PythonDataNew/lib/python3.6/site-packages/pandas/core/indexes/base.py\u001b[0m in \u001b[0;36mget_loc\u001b[0;34m(self, key, method, tolerance)\u001b[0m\n\u001b[1;32m   2888\u001b[0m             \u001b[0;32mtry\u001b[0m\u001b[0;34m:\u001b[0m\u001b[0;34m\u001b[0m\u001b[0;34m\u001b[0m\u001b[0m\n\u001b[0;32m-> 2889\u001b[0;31m                 \u001b[0;32mreturn\u001b[0m \u001b[0mself\u001b[0m\u001b[0;34m.\u001b[0m\u001b[0m_engine\u001b[0m\u001b[0;34m.\u001b[0m\u001b[0mget_loc\u001b[0m\u001b[0;34m(\u001b[0m\u001b[0mcasted_key\u001b[0m\u001b[0;34m)\u001b[0m\u001b[0;34m\u001b[0m\u001b[0;34m\u001b[0m\u001b[0m\n\u001b[0m\u001b[1;32m   2890\u001b[0m             \u001b[0;32mexcept\u001b[0m \u001b[0mKeyError\u001b[0m \u001b[0;32mas\u001b[0m \u001b[0merr\u001b[0m\u001b[0;34m:\u001b[0m\u001b[0;34m\u001b[0m\u001b[0;34m\u001b[0m\u001b[0m\n",
      "\u001b[0;32mpandas/_libs/index.pyx\u001b[0m in \u001b[0;36mpandas._libs.index.IndexEngine.get_loc\u001b[0;34m()\u001b[0m\n",
      "\u001b[0;32mpandas/_libs/index.pyx\u001b[0m in \u001b[0;36mpandas._libs.index.IndexEngine.get_loc\u001b[0;34m()\u001b[0m\n",
      "\u001b[0;32mpandas/_libs/hashtable_class_helper.pxi\u001b[0m in \u001b[0;36mpandas._libs.hashtable.PyObjectHashTable.get_item\u001b[0;34m()\u001b[0m\n",
      "\u001b[0;32mpandas/_libs/hashtable_class_helper.pxi\u001b[0m in \u001b[0;36mpandas._libs.hashtable.PyObjectHashTable.get_item\u001b[0;34m()\u001b[0m\n",
      "\u001b[0;31mKeyError\u001b[0m: 'age'",
      "\nThe above exception was the direct cause of the following exception:\n",
      "\u001b[0;31mKeyError\u001b[0m                                  Traceback (most recent call last)",
      "\u001b[0;32m<ipython-input-18-f6c8b844853f>\u001b[0m in \u001b[0;36m<module>\u001b[0;34m()\u001b[0m\n\u001b[1;32m      2\u001b[0m \u001b[0mlist_df\u001b[0m \u001b[0;34m=\u001b[0m \u001b[0;34m[\u001b[0m\u001b[0meng_df\u001b[0m\u001b[0;34m,\u001b[0m\u001b[0mspain_df\u001b[0m\u001b[0;34m,\u001b[0m\u001b[0mit_df\u001b[0m\u001b[0;34m]\u001b[0m\u001b[0;34m\u001b[0m\u001b[0;34m\u001b[0m\u001b[0m\n\u001b[1;32m      3\u001b[0m \u001b[0;32mfor\u001b[0m \u001b[0mdf\u001b[0m \u001b[0;32min\u001b[0m \u001b[0mlist_df\u001b[0m\u001b[0;34m:\u001b[0m\u001b[0;34m\u001b[0m\u001b[0;34m\u001b[0m\u001b[0m\n\u001b[0;32m----> 4\u001b[0;31m     \u001b[0mdf\u001b[0m\u001b[0;34m[\u001b[0m\u001b[0;34m\"age\"\u001b[0m\u001b[0;34m]\u001b[0m \u001b[0;34m=\u001b[0m \u001b[0mdf\u001b[0m\u001b[0;34m[\u001b[0m\u001b[0;34m\"age\"\u001b[0m\u001b[0;34m]\u001b[0m\u001b[0;34m.\u001b[0m\u001b[0mmap\u001b[0m\u001b[0;34m(\u001b[0m\u001b[0;32mlambda\u001b[0m \u001b[0mx\u001b[0m\u001b[0;34m:\u001b[0m \u001b[0mround\u001b[0m\u001b[0;34m(\u001b[0m\u001b[0mx\u001b[0m\u001b[0;34m,\u001b[0m\u001b[0;36m2\u001b[0m\u001b[0;34m)\u001b[0m\u001b[0;34m)\u001b[0m\u001b[0;34m\u001b[0m\u001b[0;34m\u001b[0m\u001b[0m\n\u001b[0m\u001b[1;32m      5\u001b[0m     \u001b[0mdf\u001b[0m\u001b[0;34m[\u001b[0m\u001b[0;34m\"height_cm\"\u001b[0m\u001b[0;34m]\u001b[0m \u001b[0;34m=\u001b[0m \u001b[0mdf\u001b[0m\u001b[0;34m[\u001b[0m\u001b[0;34m\"height_cm\"\u001b[0m\u001b[0;34m]\u001b[0m\u001b[0;34m.\u001b[0m\u001b[0mmap\u001b[0m\u001b[0;34m(\u001b[0m\u001b[0;32mlambda\u001b[0m \u001b[0mx\u001b[0m\u001b[0;34m:\u001b[0m \u001b[0mround\u001b[0m\u001b[0;34m(\u001b[0m\u001b[0mx\u001b[0m\u001b[0;34m,\u001b[0m\u001b[0;36m2\u001b[0m\u001b[0;34m)\u001b[0m\u001b[0;34m)\u001b[0m\u001b[0;34m\u001b[0m\u001b[0;34m\u001b[0m\u001b[0m\n\u001b[1;32m      6\u001b[0m     \u001b[0mdf\u001b[0m\u001b[0;34m[\u001b[0m\u001b[0;34m\"weight_kg\"\u001b[0m\u001b[0;34m]\u001b[0m \u001b[0;34m=\u001b[0m \u001b[0mdf\u001b[0m\u001b[0;34m[\u001b[0m\u001b[0;34m\"weight_kg\"\u001b[0m\u001b[0;34m]\u001b[0m\u001b[0;34m.\u001b[0m\u001b[0mmap\u001b[0m\u001b[0;34m(\u001b[0m\u001b[0;32mlambda\u001b[0m \u001b[0mx\u001b[0m\u001b[0;34m:\u001b[0m \u001b[0mround\u001b[0m\u001b[0;34m(\u001b[0m\u001b[0mx\u001b[0m\u001b[0;34m,\u001b[0m\u001b[0;36m2\u001b[0m\u001b[0;34m)\u001b[0m\u001b[0;34m)\u001b[0m\u001b[0;34m\u001b[0m\u001b[0;34m\u001b[0m\u001b[0m\n",
      "\u001b[0;32m/opt/anaconda3/envs/PythonDataNew/lib/python3.6/site-packages/pandas/core/frame.py\u001b[0m in \u001b[0;36m__getitem__\u001b[0;34m(self, key)\u001b[0m\n\u001b[1;32m   2900\u001b[0m             \u001b[0;32mif\u001b[0m \u001b[0mself\u001b[0m\u001b[0;34m.\u001b[0m\u001b[0mcolumns\u001b[0m\u001b[0;34m.\u001b[0m\u001b[0mnlevels\u001b[0m \u001b[0;34m>\u001b[0m \u001b[0;36m1\u001b[0m\u001b[0;34m:\u001b[0m\u001b[0;34m\u001b[0m\u001b[0;34m\u001b[0m\u001b[0m\n\u001b[1;32m   2901\u001b[0m                 \u001b[0;32mreturn\u001b[0m \u001b[0mself\u001b[0m\u001b[0;34m.\u001b[0m\u001b[0m_getitem_multilevel\u001b[0m\u001b[0;34m(\u001b[0m\u001b[0mkey\u001b[0m\u001b[0;34m)\u001b[0m\u001b[0;34m\u001b[0m\u001b[0;34m\u001b[0m\u001b[0m\n\u001b[0;32m-> 2902\u001b[0;31m             \u001b[0mindexer\u001b[0m \u001b[0;34m=\u001b[0m \u001b[0mself\u001b[0m\u001b[0;34m.\u001b[0m\u001b[0mcolumns\u001b[0m\u001b[0;34m.\u001b[0m\u001b[0mget_loc\u001b[0m\u001b[0;34m(\u001b[0m\u001b[0mkey\u001b[0m\u001b[0;34m)\u001b[0m\u001b[0;34m\u001b[0m\u001b[0;34m\u001b[0m\u001b[0m\n\u001b[0m\u001b[1;32m   2903\u001b[0m             \u001b[0;32mif\u001b[0m \u001b[0mis_integer\u001b[0m\u001b[0;34m(\u001b[0m\u001b[0mindexer\u001b[0m\u001b[0;34m)\u001b[0m\u001b[0;34m:\u001b[0m\u001b[0;34m\u001b[0m\u001b[0;34m\u001b[0m\u001b[0m\n\u001b[1;32m   2904\u001b[0m                 \u001b[0mindexer\u001b[0m \u001b[0;34m=\u001b[0m \u001b[0;34m[\u001b[0m\u001b[0mindexer\u001b[0m\u001b[0;34m]\u001b[0m\u001b[0;34m\u001b[0m\u001b[0;34m\u001b[0m\u001b[0m\n",
      "\u001b[0;32m/opt/anaconda3/envs/PythonDataNew/lib/python3.6/site-packages/pandas/core/indexes/base.py\u001b[0m in \u001b[0;36mget_loc\u001b[0;34m(self, key, method, tolerance)\u001b[0m\n\u001b[1;32m   2889\u001b[0m                 \u001b[0;32mreturn\u001b[0m \u001b[0mself\u001b[0m\u001b[0;34m.\u001b[0m\u001b[0m_engine\u001b[0m\u001b[0;34m.\u001b[0m\u001b[0mget_loc\u001b[0m\u001b[0;34m(\u001b[0m\u001b[0mcasted_key\u001b[0m\u001b[0;34m)\u001b[0m\u001b[0;34m\u001b[0m\u001b[0;34m\u001b[0m\u001b[0m\n\u001b[1;32m   2890\u001b[0m             \u001b[0;32mexcept\u001b[0m \u001b[0mKeyError\u001b[0m \u001b[0;32mas\u001b[0m \u001b[0merr\u001b[0m\u001b[0;34m:\u001b[0m\u001b[0;34m\u001b[0m\u001b[0;34m\u001b[0m\u001b[0m\n\u001b[0;32m-> 2891\u001b[0;31m                 \u001b[0;32mraise\u001b[0m \u001b[0mKeyError\u001b[0m\u001b[0;34m(\u001b[0m\u001b[0mkey\u001b[0m\u001b[0;34m)\u001b[0m \u001b[0;32mfrom\u001b[0m \u001b[0merr\u001b[0m\u001b[0;34m\u001b[0m\u001b[0;34m\u001b[0m\u001b[0m\n\u001b[0m\u001b[1;32m   2892\u001b[0m \u001b[0;34m\u001b[0m\u001b[0m\n\u001b[1;32m   2893\u001b[0m         \u001b[0;32mif\u001b[0m \u001b[0mtolerance\u001b[0m \u001b[0;32mis\u001b[0m \u001b[0;32mnot\u001b[0m \u001b[0;32mNone\u001b[0m\u001b[0;34m:\u001b[0m\u001b[0;34m\u001b[0m\u001b[0;34m\u001b[0m\u001b[0m\n",
      "\u001b[0;31mKeyError\u001b[0m: 'age'"
     ]
    }
   ],
   "source": [
    "#rounding the columns to make it more readable\n",
    "list_df = [eng_df,spain_df,it_df]\n",
    "for df in list_df:\n",
    "    df[\"age\"] = df[\"age\"].map(lambda x: round(x,2))\n",
    "    df[\"height_cm\"] = df[\"height_cm\"].map(lambda x: round(x,2))\n",
    "    df[\"weight_kg\"] = df[\"weight_kg\"].map(lambda x: round(x,2))\n",
    "    df[\"overall\"] = df[\"overall\"].map(lambda x: round(x,2))\n",
    "    df[\"value_eur\"] = df[\"value_eur\"].map(lambda x: round(x))\n",
    "    df = df.rename(columns={\"age\": \"avg age\",\"height_cm\":\"avg heights (cm)\",\"weight_kg\":\"avg weight (kg)\",\"overall\":\"agv player rating\",\"value_eur\": \"avg player value (EU)\"})"
   ]
  },
  {
   "cell_type": "code",
   "execution_count": null,
   "metadata": {},
   "outputs": [],
   "source": [
    "#export to csv\n",
    "spain_df.to_csv(\"cleaned/spainranking.csv\")\n",
    "it_df.to_csv(\"cleaned/itranking.csv\")\n",
    "eng_df.to_csv(\"cleaned/engranking.csv\")"
   ]
  },
  {
   "cell_type": "code",
   "execution_count": 16,
   "metadata": {},
   "outputs": [
    {
     "output_type": "execute_result",
     "data": {
      "text/plain": "    Year                    Teams  Points  Goals+  Goals-  avg age  \\\n0   2015              Bournemouth      42      23      34    25.03   \n1   2015                  Chelsea      50      32      30    23.76   \n2   2015                  Everton      47      35      30    25.33   \n3   2015           Leicester City      81      35      18    25.03   \n4   2015        Manchester United      66      27       9    23.94   \n..   ...                      ...     ...     ...     ...      ...   \n95  2019              Southampton      52      51      60    23.73   \n96  2019          Manchester City      81     102      35    24.09   \n97  2019         Sheffield United      54      39      39    25.60   \n98  2019                  Chelsea      66      69      54    25.21   \n99  2019  Wolverhampton Wanderers      59      51      40    22.97   \n\n    avg heights (cm)  avg weight (kg)  agv player rating  \\\n0             180.63            75.97              63.93   \n1             183.42            77.30              73.27   \n2             180.67            75.55              72.36   \n3             181.85            75.76              66.45   \n4             183.00            75.45              73.39   \n..               ...              ...                ...   \n95            183.39            75.79              71.42   \n96            180.45            74.12              76.85   \n97            182.03            75.13              66.27   \n98            182.82            77.00              76.79   \n99            182.42            78.45              68.64   \n\n    avg player value (EU)  \n0                       0  \n1                       0  \n2                       0  \n3                       0  \n4                       0  \n..                    ...  \n95                5977121  \n96               22951364  \n97                1438500  \n98               18798788  \n99                5249091  \n\n[100 rows x 10 columns]",
      "text/html": "<div>\n<style scoped>\n    .dataframe tbody tr th:only-of-type {\n        vertical-align: middle;\n    }\n\n    .dataframe tbody tr th {\n        vertical-align: top;\n    }\n\n    .dataframe thead th {\n        text-align: right;\n    }\n</style>\n<table border=\"1\" class=\"dataframe\">\n  <thead>\n    <tr style=\"text-align: right;\">\n      <th></th>\n      <th>Year</th>\n      <th>Teams</th>\n      <th>Points</th>\n      <th>Goals+</th>\n      <th>Goals-</th>\n      <th>avg age</th>\n      <th>avg heights (cm)</th>\n      <th>avg weight (kg)</th>\n      <th>agv player rating</th>\n      <th>avg player value (EU)</th>\n    </tr>\n  </thead>\n  <tbody>\n    <tr>\n      <th>0</th>\n      <td>2015</td>\n      <td>Bournemouth</td>\n      <td>42</td>\n      <td>23</td>\n      <td>34</td>\n      <td>25.03</td>\n      <td>180.63</td>\n      <td>75.97</td>\n      <td>63.93</td>\n      <td>0</td>\n    </tr>\n    <tr>\n      <th>1</th>\n      <td>2015</td>\n      <td>Chelsea</td>\n      <td>50</td>\n      <td>32</td>\n      <td>30</td>\n      <td>23.76</td>\n      <td>183.42</td>\n      <td>77.30</td>\n      <td>73.27</td>\n      <td>0</td>\n    </tr>\n    <tr>\n      <th>2</th>\n      <td>2015</td>\n      <td>Everton</td>\n      <td>47</td>\n      <td>35</td>\n      <td>30</td>\n      <td>25.33</td>\n      <td>180.67</td>\n      <td>75.55</td>\n      <td>72.36</td>\n      <td>0</td>\n    </tr>\n    <tr>\n      <th>3</th>\n      <td>2015</td>\n      <td>Leicester City</td>\n      <td>81</td>\n      <td>35</td>\n      <td>18</td>\n      <td>25.03</td>\n      <td>181.85</td>\n      <td>75.76</td>\n      <td>66.45</td>\n      <td>0</td>\n    </tr>\n    <tr>\n      <th>4</th>\n      <td>2015</td>\n      <td>Manchester United</td>\n      <td>66</td>\n      <td>27</td>\n      <td>9</td>\n      <td>23.94</td>\n      <td>183.00</td>\n      <td>75.45</td>\n      <td>73.39</td>\n      <td>0</td>\n    </tr>\n    <tr>\n      <th>...</th>\n      <td>...</td>\n      <td>...</td>\n      <td>...</td>\n      <td>...</td>\n      <td>...</td>\n      <td>...</td>\n      <td>...</td>\n      <td>...</td>\n      <td>...</td>\n      <td>...</td>\n    </tr>\n    <tr>\n      <th>95</th>\n      <td>2019</td>\n      <td>Southampton</td>\n      <td>52</td>\n      <td>51</td>\n      <td>60</td>\n      <td>23.73</td>\n      <td>183.39</td>\n      <td>75.79</td>\n      <td>71.42</td>\n      <td>5977121</td>\n    </tr>\n    <tr>\n      <th>96</th>\n      <td>2019</td>\n      <td>Manchester City</td>\n      <td>81</td>\n      <td>102</td>\n      <td>35</td>\n      <td>24.09</td>\n      <td>180.45</td>\n      <td>74.12</td>\n      <td>76.85</td>\n      <td>22951364</td>\n    </tr>\n    <tr>\n      <th>97</th>\n      <td>2019</td>\n      <td>Sheffield United</td>\n      <td>54</td>\n      <td>39</td>\n      <td>39</td>\n      <td>25.60</td>\n      <td>182.03</td>\n      <td>75.13</td>\n      <td>66.27</td>\n      <td>1438500</td>\n    </tr>\n    <tr>\n      <th>98</th>\n      <td>2019</td>\n      <td>Chelsea</td>\n      <td>66</td>\n      <td>69</td>\n      <td>54</td>\n      <td>25.21</td>\n      <td>182.82</td>\n      <td>77.00</td>\n      <td>76.79</td>\n      <td>18798788</td>\n    </tr>\n    <tr>\n      <th>99</th>\n      <td>2019</td>\n      <td>Wolverhampton Wanderers</td>\n      <td>59</td>\n      <td>51</td>\n      <td>40</td>\n      <td>22.97</td>\n      <td>182.42</td>\n      <td>78.45</td>\n      <td>68.64</td>\n      <td>5249091</td>\n    </tr>\n  </tbody>\n</table>\n<p>100 rows × 10 columns</p>\n</div>"
     },
     "metadata": {},
     "execution_count": 16
    }
   ],
   "source": [
    "#diversity\n",
    "eng_df"
   ]
  }
 ]
}