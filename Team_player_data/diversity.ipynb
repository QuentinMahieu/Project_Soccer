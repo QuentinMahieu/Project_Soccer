{
 "metadata": {
  "language_info": {
   "codemirror_mode": {
    "name": "ipython",
    "version": 3
   },
   "file_extension": ".py",
   "mimetype": "text/x-python",
   "name": "python",
   "nbconvert_exporter": "python",
   "pygments_lexer": "ipython3",
   "version": 3
  },
  "orig_nbformat": 2
 },
 "nbformat": 4,
 "nbformat_minor": 2,
 "cells": [
  {
   "cell_type": "code",
   "execution_count": null,
   "metadata": {},
   "outputs": [],
   "source": [
    "import pandas as pd"
   ]
  },
  {
   "cell_type": "code",
   "execution_count": null,
   "metadata": {},
   "outputs": [],
   "source": [
    "def playersfunc(filepath,year):\n",
    "    play_df = pd.read_csv(filepath)\n",
    "    play_df = play_df[['short_name','nationality','club',]]\n",
    "    play_df = play_df.rename({\"club\":\"Teams\"},axis=1)\n",
    "    play_df[\"Year\"]= year\n",
    "    play_df[\"Year\"] = play_df[\"Year\"].astype('int')\n",
    "    play_df = play_df.reset_index()\n",
    "    return play_df\n",
    "def cleanup(df):\n",
    "    df[\"Teams\"] = df[\"Teams\"].str.replace(\"RC Celta\", \"RC Celta Vigo\")\n",
    "    df[\"Teams\"] = df[\"Teams\"].str.replace(\"Real Sporting de Gijón\", \"Sporting Gijón\")\n",
    "    df[\"Teams\"] = df[\"Teams\"].str.replace(\"Athletic Club de Bilbao\", \"Athletic Club Bilbao\")\n",
    "    df[\"Teams\"] = df[\"Teams\"].str.replace(\"Deportivo de La Coruña\", \"RCD La Coruña\")\n",
    "    df[\"Teams\"] = df[\"Teams\"].str.replace(\"Milan\", \"AC Milan\")\n",
    "    df[\"Teams\"] = df[\"Teams\"].str.replace(\"Lazio\", \"SS Lazio\")\n",
    "    df[\"Teams\"] = df[\"Teams\"].str.replace(\"Fiorentina\", \"ACF Fiorentina\")\n",
    "    df[\"Teams\"] = df[\"Teams\"].str.replace(\"Inter\", \"FC Internazionale Milano\")\n",
    "    df[\"Teams\"] = df[\"Teams\"].str.replace(\"Sassuolo\", \"Sassuolo Calcio\")\n",
    "    df[\"Teams\"] = df[\"Teams\"].str.replace(\"Chievo Verona\", \"AC Chievo Verona\")\n",
    "    df[\"Teams\"] = df[\"Teams\"].str.replace(\"Roma\", \"AS Roma\")\n",
    "    df[\"Teams\"] = df[\"Teams\"].str.replace(\"Udinese\", \"Udinese Calcio\")\n",
    "    df[\"Teams\"] = df[\"Teams\"].str.replace(\"Cagliari\", \"Cagliari Calcio\")\n",
    "    df[\"Teams\"] = df[\"Teams\"].str.replace(\"Crotone\", \"FC Crotone\")\n",
    "    return df\n",
    "players_df_15 = playersfunc(path_2015,2015)\n",
    "players_df_15 = cleanup(players_df_15)"
   ]
  },
  {
   "cell_type": "code",
   "execution_count": null,
   "metadata": {},
   "outputs": [],
   "source": [
    "d = players_df_15.groupby(\"Teams\")[\"nationality\"].value_counts()\n",
    "d = pd.DataFrame(d)\n",
    "f = {\"nationality\": \"max/sum\"}\n",
    "d[\"% locals\"]= d[\"nationality\"].apply(lambda x : max(x)/sum(x))"
   ]
  }
 ]
}