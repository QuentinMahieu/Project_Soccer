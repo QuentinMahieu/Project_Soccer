{
 "metadata": {
  "language_info": {
   "codemirror_mode": {
    "name": "ipython",
    "version": 3
   },
   "file_extension": ".py",
   "mimetype": "text/x-python",
   "name": "python",
   "nbconvert_exporter": "python",
   "pygments_lexer": "ipython3",
   "version": "3.6.10-final"
  },
  "orig_nbformat": 2,
  "kernelspec": {
   "name": "python_defaultSpec_1601680098455",
   "display_name": "Python 3.6.10 64-bit ('PythonDataNew': conda)"
  }
 },
 "nbformat": 4,
 "nbformat_minor": 2,
 "cells": [
  {
   "cell_type": "code",
   "execution_count": 12,
   "metadata": {},
   "outputs": [
    {
     "output_type": "execute_result",
     "data": {
      "text/plain": "    Unnamed: 0  Year                    Teams  Points  Goals+  Goals-  \\\n0            0  2015              Bournemouth      42      23      34   \n1            1  2015                  Chelsea      50      32      30   \n2            2  2015                  Everton      47      35      30   \n3            3  2015           Leicester City      81      35      18   \n4            4  2015        Manchester United      66      27       9   \n..         ...   ...                      ...     ...     ...     ...   \n95          95  2019              Southampton      52      51      60   \n96          96  2019          Manchester City      81     102      35   \n97          97  2019         Sheffield United      54      39      39   \n98          98  2019                  Chelsea      66      69      54   \n99          99  2019  Wolverhampton Wanderers      59      51      40   \n\n    avg age  avg heights (cm)  avg weight (kg)  agv player rating  \\\n0     25.03            180.63            75.97              63.93   \n1     23.76            183.42            77.30              73.27   \n2     25.33            180.67            75.55              72.36   \n3     25.03            181.85            75.76              66.45   \n4     23.94            183.00            75.45              73.39   \n..      ...               ...              ...                ...   \n95    23.73            183.39            75.79              71.42   \n96    24.09            180.45            74.12              76.85   \n97    25.60            182.03            75.13              66.27   \n98    25.21            182.82            77.00              76.79   \n99    22.97            182.42            78.45              68.64   \n\n    avg player value (EU)  \n0                       0  \n1                       0  \n2                       0  \n3                       0  \n4                       0  \n..                    ...  \n95                5977121  \n96               22951363  \n97                1438500  \n98               18798787  \n99                5249090  \n\n[100 rows x 11 columns]",
      "text/html": "<div>\n<style scoped>\n    .dataframe tbody tr th:only-of-type {\n        vertical-align: middle;\n    }\n\n    .dataframe tbody tr th {\n        vertical-align: top;\n    }\n\n    .dataframe thead th {\n        text-align: right;\n    }\n</style>\n<table border=\"1\" class=\"dataframe\">\n  <thead>\n    <tr style=\"text-align: right;\">\n      <th></th>\n      <th>Unnamed: 0</th>\n      <th>Year</th>\n      <th>Teams</th>\n      <th>Points</th>\n      <th>Goals+</th>\n      <th>Goals-</th>\n      <th>avg age</th>\n      <th>avg heights (cm)</th>\n      <th>avg weight (kg)</th>\n      <th>agv player rating</th>\n      <th>avg player value (EU)</th>\n    </tr>\n  </thead>\n  <tbody>\n    <tr>\n      <th>0</th>\n      <td>0</td>\n      <td>2015</td>\n      <td>Bournemouth</td>\n      <td>42</td>\n      <td>23</td>\n      <td>34</td>\n      <td>25.03</td>\n      <td>180.63</td>\n      <td>75.97</td>\n      <td>63.93</td>\n      <td>0</td>\n    </tr>\n    <tr>\n      <th>1</th>\n      <td>1</td>\n      <td>2015</td>\n      <td>Chelsea</td>\n      <td>50</td>\n      <td>32</td>\n      <td>30</td>\n      <td>23.76</td>\n      <td>183.42</td>\n      <td>77.30</td>\n      <td>73.27</td>\n      <td>0</td>\n    </tr>\n    <tr>\n      <th>2</th>\n      <td>2</td>\n      <td>2015</td>\n      <td>Everton</td>\n      <td>47</td>\n      <td>35</td>\n      <td>30</td>\n      <td>25.33</td>\n      <td>180.67</td>\n      <td>75.55</td>\n      <td>72.36</td>\n      <td>0</td>\n    </tr>\n    <tr>\n      <th>3</th>\n      <td>3</td>\n      <td>2015</td>\n      <td>Leicester City</td>\n      <td>81</td>\n      <td>35</td>\n      <td>18</td>\n      <td>25.03</td>\n      <td>181.85</td>\n      <td>75.76</td>\n      <td>66.45</td>\n      <td>0</td>\n    </tr>\n    <tr>\n      <th>4</th>\n      <td>4</td>\n      <td>2015</td>\n      <td>Manchester United</td>\n      <td>66</td>\n      <td>27</td>\n      <td>9</td>\n      <td>23.94</td>\n      <td>183.00</td>\n      <td>75.45</td>\n      <td>73.39</td>\n      <td>0</td>\n    </tr>\n    <tr>\n      <th>...</th>\n      <td>...</td>\n      <td>...</td>\n      <td>...</td>\n      <td>...</td>\n      <td>...</td>\n      <td>...</td>\n      <td>...</td>\n      <td>...</td>\n      <td>...</td>\n      <td>...</td>\n      <td>...</td>\n    </tr>\n    <tr>\n      <th>95</th>\n      <td>95</td>\n      <td>2019</td>\n      <td>Southampton</td>\n      <td>52</td>\n      <td>51</td>\n      <td>60</td>\n      <td>23.73</td>\n      <td>183.39</td>\n      <td>75.79</td>\n      <td>71.42</td>\n      <td>5977121</td>\n    </tr>\n    <tr>\n      <th>96</th>\n      <td>96</td>\n      <td>2019</td>\n      <td>Manchester City</td>\n      <td>81</td>\n      <td>102</td>\n      <td>35</td>\n      <td>24.09</td>\n      <td>180.45</td>\n      <td>74.12</td>\n      <td>76.85</td>\n      <td>22951363</td>\n    </tr>\n    <tr>\n      <th>97</th>\n      <td>97</td>\n      <td>2019</td>\n      <td>Sheffield United</td>\n      <td>54</td>\n      <td>39</td>\n      <td>39</td>\n      <td>25.60</td>\n      <td>182.03</td>\n      <td>75.13</td>\n      <td>66.27</td>\n      <td>1438500</td>\n    </tr>\n    <tr>\n      <th>98</th>\n      <td>98</td>\n      <td>2019</td>\n      <td>Chelsea</td>\n      <td>66</td>\n      <td>69</td>\n      <td>54</td>\n      <td>25.21</td>\n      <td>182.82</td>\n      <td>77.00</td>\n      <td>76.79</td>\n      <td>18798787</td>\n    </tr>\n    <tr>\n      <th>99</th>\n      <td>99</td>\n      <td>2019</td>\n      <td>Wolverhampton Wanderers</td>\n      <td>59</td>\n      <td>51</td>\n      <td>40</td>\n      <td>22.97</td>\n      <td>182.42</td>\n      <td>78.45</td>\n      <td>68.64</td>\n      <td>5249090</td>\n    </tr>\n  </tbody>\n</table>\n<p>100 rows × 11 columns</p>\n</div>"
     },
     "metadata": {},
     "execution_count": 12
    }
   ],
   "source": [
    "import pandas as pd\n",
    "\n",
    "# file paths to files\n",
    "#players\n",
    "path_2015 = \"raw/players_15.csv\"\n",
    "path_2016 = \"raw/players_16.csv\"\n",
    "path_2017 = \"raw/players_17.csv\"\n",
    "path_2018 = \"raw/players_18.csv\"\n",
    "path_2019 = \"raw/players_19.csv\"\n",
    "path_2020 = \"raw/players_20.csv\"\n",
    "paths = [path_2015, path_2016,path_2017,path_2018,path_2019,path_2020]\n",
    "\n",
    "#cleaned\n",
    "eng_path = \"cleaned/engranking.csv\"\n",
    "it_path = \"cleaned/itranking.csv\"\n",
    "spain_path = \"cleaned/spainranking.csv\"\n",
    "\n",
    "#read the cleaned data\n",
    "eng_df = pd.read_csv(eng_path)\n",
    "it_df = pd.read_csv(it_path)\n",
    "spain_df = pd.read_csv(spain_path)\n",
    "list_df= [eng_df,it_df,spain_df]\n",
    "eng_df"
   ]
  },
  {
   "cell_type": "code",
   "execution_count": 13,
   "metadata": {},
   "outputs": [],
   "source": [
    "def playersfunc(filepath,year):\n",
    "    play_df = pd.read_csv(filepath)\n",
    "    play_df = play_df[['short_name','nationality','club',]]\n",
    "    play_df = play_df.rename({\"club\":\"Teams\"},axis=1)\n",
    "    play_df[\"Year\"]= year\n",
    "    play_df[\"Year\"] = play_df[\"Year\"].astype('int')\n",
    "    play_df = play_df.reset_index()\n",
    "    return play_df\n",
    "def cleanup(df):\n",
    "    df[\"Teams\"] = df[\"Teams\"].str.replace(\"RC Celta\", \"RC Celta Vigo\")\n",
    "    df[\"Teams\"] = df[\"Teams\"].str.replace(\"Real Sporting de Gijón\", \"Sporting Gijón\")\n",
    "    df[\"Teams\"] = df[\"Teams\"].str.replace(\"Athletic Club de Bilbao\", \"Athletic Club Bilbao\")\n",
    "    df[\"Teams\"] = df[\"Teams\"].str.replace(\"Deportivo de La Coruña\", \"RCD La Coruña\")\n",
    "    df[\"Teams\"] = df[\"Teams\"].str.replace(\"Milan\", \"AC Milan\")\n",
    "    df[\"Teams\"] = df[\"Teams\"].str.replace(\"Lazio\", \"SS Lazio\")\n",
    "    df[\"Teams\"] = df[\"Teams\"].str.replace(\"Fiorentina\", \"ACF Fiorentina\")\n",
    "    df[\"Teams\"] = df[\"Teams\"].str.replace(\"Inter\", \"FC Internazionale Milano\")\n",
    "    df[\"Teams\"] = df[\"Teams\"].str.replace(\"Sassuolo\", \"Sassuolo Calcio\")\n",
    "    df[\"Teams\"] = df[\"Teams\"].str.replace(\"Chievo Verona\", \"AC Chievo Verona\")\n",
    "    df[\"Teams\"] = df[\"Teams\"].str.replace(\"Roma\", \"AS Roma\")\n",
    "    df[\"Teams\"] = df[\"Teams\"].str.replace(\"Udinese\", \"Udinese Calcio\")\n",
    "    df[\"Teams\"] = df[\"Teams\"].str.replace(\"Cagliari\", \"Cagliari Calcio\")\n",
    "    df[\"Teams\"] = df[\"Teams\"].str.replace(\"Crotone\", \"FC Crotone\")\n",
    "    return df\n",
    "players_df_15 = playersfunc(path_2015,2015)\n",
    "players_df_15 = cleanup(players_df_15)"
   ]
  },
  {
   "cell_type": "code",
   "execution_count": 15,
   "metadata": {},
   "outputs": [],
   "source": [
    "#teamslist = {}\n",
    "#for df in list_df:\n",
    "#    for team in df[\"Teams\"]:\n",
    "      \n",
    "\n",
    "\n",
    "#players_df_15"
   ]
  },
  {
   "cell_type": "code",
   "execution_count": null,
   "metadata": {},
   "outputs": [],
   "source": []
  },
  {
   "cell_type": "code",
   "execution_count": null,
   "metadata": {},
   "outputs": [],
   "source": []
  }
 ]
}