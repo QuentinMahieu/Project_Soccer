{
 "metadata": {
  "language_info": {
   "codemirror_mode": {
    "name": "ipython",
    "version": 3
   },
   "file_extension": ".py",
   "mimetype": "text/x-python",
   "name": "python",
   "nbconvert_exporter": "python",
   "pygments_lexer": "ipython3",
   "version": "3.6.10-final"
  },
  "orig_nbformat": 2,
  "kernelspec": {
   "name": "python_defaultSpec_1601782842246",
   "display_name": "Python 3.6.10 64-bit"
  }
 },
 "nbformat": 4,
 "nbformat_minor": 2,
 "cells": [
  {
   "cell_type": "code",
   "execution_count": 21,
   "metadata": {},
   "outputs": [],
   "source": [
    "#Import the modules\n",
    "import pandas as pd\n",
    "import numpy as np\n",
    "pd.set_option('display.max_columns', None)\n",
    "# file paths to files\n",
    "#players\n",
    "path_2015 = \"raw/players_15.csv\"\n",
    "path_2016 = \"raw/players_16.csv\"\n",
    "path_2017 = \"raw/players_17.csv\"\n",
    "path_2018 = \"raw/players_18.csv\"\n",
    "path_2019 = \"raw/players_19.csv\"\n",
    "path_2020 = \"raw/players_20.csv\"\n",
    "paths = [path_2015, path_2016,path_2017,path_2018,path_2019,path_2020]\n",
    "\n",
    "#cleaned\n",
    "path_eng = \"cleaned/engranking.csv\"\n",
    "path_it = \"cleaned/itranking.csv\"\n",
    "path_spain = \"cleaned/spainranking.csv\"\n",
    "pathss = [path_eng,path_it,path_spain]\n",
    "#read data\n",
    "dfs = []\n",
    "for path in pathss:\n",
    "    df = pd.read_csv(path)\n",
    "    dfs.append(df.sort_values(by=[\"Year\",\"Points\"], ascending = False))"
   ]
  },
  {
   "cell_type": "code",
   "execution_count": 66,
   "metadata": {},
   "outputs": [
    {
     "output_type": "execute_result",
     "data": {
      "text/plain": "    Ranking  Year              Teams  Points  Goals+  Goals-  avg age  \\\n80       80  2019          Liverpool      99      85      33    24.00   \n96       96  2019    Manchester City      81     102      35    24.09   \n89       89  2019  Manchester United      66      66      36    24.76   \n98       98  2019            Chelsea      66      69      54    25.21   \n87       87  2019     Leicester City      62      67      41    25.64   \n..      ...   ...                ...     ...     ...     ...      ...   \n17       17  2015     Crystal Palace      42      19      23    26.42   \n12       12  2015         Sunderland      39      23      20    23.85   \n7         7  2015   Newcastle United      37      32      24    24.06   \n5         5  2015       Norwich City      34      26      30    25.70   \n10       10  2015        Aston Villa      17      14      35    24.41   \n\n    avg heights (cm)  avg weight (kg)  avg player rating  \\\n80            180.48            73.18              76.00   \n96            180.45            74.12              76.85   \n89            183.21            75.36              77.45   \n98            182.82            77.00              76.79   \n87            181.94            78.30              73.97   \n..               ...              ...                ...   \n17            182.52            76.21              69.42   \n12            182.33            76.00              68.03   \n7             181.97            77.42              70.48   \n5             182.30            76.83              69.40   \n10            182.47            76.03              69.47   \n\n    avg player value (EU)  avg player wage  \n80               18015303            88212  \n96               22951363           112758  \n89               19016666           106727  \n98               18798787            98970  \n87                7597727            44758  \n..                    ...              ...  \n17                      0                0  \n12                      0                0  \n7                       0                0  \n5                       0                0  \n10                      0                0  \n\n[100 rows x 12 columns]",
      "text/html": "<div>\n<style scoped>\n    .dataframe tbody tr th:only-of-type {\n        vertical-align: middle;\n    }\n\n    .dataframe tbody tr th {\n        vertical-align: top;\n    }\n\n    .dataframe thead th {\n        text-align: right;\n    }\n</style>\n<table border=\"1\" class=\"dataframe\">\n  <thead>\n    <tr style=\"text-align: right;\">\n      <th></th>\n      <th>Ranking</th>\n      <th>Year</th>\n      <th>Teams</th>\n      <th>Points</th>\n      <th>Goals+</th>\n      <th>Goals-</th>\n      <th>avg age</th>\n      <th>avg heights (cm)</th>\n      <th>avg weight (kg)</th>\n      <th>avg player rating</th>\n      <th>avg player value (EU)</th>\n      <th>avg player wage</th>\n    </tr>\n  </thead>\n  <tbody>\n    <tr>\n      <th>80</th>\n      <td>80</td>\n      <td>2019</td>\n      <td>Liverpool</td>\n      <td>99</td>\n      <td>85</td>\n      <td>33</td>\n      <td>24.00</td>\n      <td>180.48</td>\n      <td>73.18</td>\n      <td>76.00</td>\n      <td>18015303</td>\n      <td>88212</td>\n    </tr>\n    <tr>\n      <th>96</th>\n      <td>96</td>\n      <td>2019</td>\n      <td>Manchester City</td>\n      <td>81</td>\n      <td>102</td>\n      <td>35</td>\n      <td>24.09</td>\n      <td>180.45</td>\n      <td>74.12</td>\n      <td>76.85</td>\n      <td>22951363</td>\n      <td>112758</td>\n    </tr>\n    <tr>\n      <th>89</th>\n      <td>89</td>\n      <td>2019</td>\n      <td>Manchester United</td>\n      <td>66</td>\n      <td>66</td>\n      <td>36</td>\n      <td>24.76</td>\n      <td>183.21</td>\n      <td>75.36</td>\n      <td>77.45</td>\n      <td>19016666</td>\n      <td>106727</td>\n    </tr>\n    <tr>\n      <th>98</th>\n      <td>98</td>\n      <td>2019</td>\n      <td>Chelsea</td>\n      <td>66</td>\n      <td>69</td>\n      <td>54</td>\n      <td>25.21</td>\n      <td>182.82</td>\n      <td>77.00</td>\n      <td>76.79</td>\n      <td>18798787</td>\n      <td>98970</td>\n    </tr>\n    <tr>\n      <th>87</th>\n      <td>87</td>\n      <td>2019</td>\n      <td>Leicester City</td>\n      <td>62</td>\n      <td>67</td>\n      <td>41</td>\n      <td>25.64</td>\n      <td>181.94</td>\n      <td>78.30</td>\n      <td>73.97</td>\n      <td>7597727</td>\n      <td>44758</td>\n    </tr>\n    <tr>\n      <th>...</th>\n      <td>...</td>\n      <td>...</td>\n      <td>...</td>\n      <td>...</td>\n      <td>...</td>\n      <td>...</td>\n      <td>...</td>\n      <td>...</td>\n      <td>...</td>\n      <td>...</td>\n      <td>...</td>\n      <td>...</td>\n    </tr>\n    <tr>\n      <th>17</th>\n      <td>17</td>\n      <td>2015</td>\n      <td>Crystal Palace</td>\n      <td>42</td>\n      <td>19</td>\n      <td>23</td>\n      <td>26.42</td>\n      <td>182.52</td>\n      <td>76.21</td>\n      <td>69.42</td>\n      <td>0</td>\n      <td>0</td>\n    </tr>\n    <tr>\n      <th>12</th>\n      <td>12</td>\n      <td>2015</td>\n      <td>Sunderland</td>\n      <td>39</td>\n      <td>23</td>\n      <td>20</td>\n      <td>23.85</td>\n      <td>182.33</td>\n      <td>76.00</td>\n      <td>68.03</td>\n      <td>0</td>\n      <td>0</td>\n    </tr>\n    <tr>\n      <th>7</th>\n      <td>7</td>\n      <td>2015</td>\n      <td>Newcastle United</td>\n      <td>37</td>\n      <td>32</td>\n      <td>24</td>\n      <td>24.06</td>\n      <td>181.97</td>\n      <td>77.42</td>\n      <td>70.48</td>\n      <td>0</td>\n      <td>0</td>\n    </tr>\n    <tr>\n      <th>5</th>\n      <td>5</td>\n      <td>2015</td>\n      <td>Norwich City</td>\n      <td>34</td>\n      <td>26</td>\n      <td>30</td>\n      <td>25.70</td>\n      <td>182.30</td>\n      <td>76.83</td>\n      <td>69.40</td>\n      <td>0</td>\n      <td>0</td>\n    </tr>\n    <tr>\n      <th>10</th>\n      <td>10</td>\n      <td>2015</td>\n      <td>Aston Villa</td>\n      <td>17</td>\n      <td>14</td>\n      <td>35</td>\n      <td>24.41</td>\n      <td>182.47</td>\n      <td>76.03</td>\n      <td>69.47</td>\n      <td>0</td>\n      <td>0</td>\n    </tr>\n  </tbody>\n</table>\n<p>100 rows × 12 columns</p>\n</div>"
     },
     "metadata": {},
     "execution_count": 66
    }
   ],
   "source": [
    "eng_df = dfs[0].sort_values(by=[\"Year\",\"Points\"], ascending=False).rename(columns={\"Unnamed: 0\": \"Ranking\"})\n",
    "it_df = dfs[1].sort_values(by=[\"Year\",\"Points\"], ascending=False).rename(columns={\"Unnamed: 0\": \"Ranking\"})\n",
    "spain_df = dfs[2].sort_values(by=[\"Year\",\"Points\"], ascending=False).rename(columns={\"Unnamed: 0\": \"Ranking\"})\n",
    "eng_df"
   ]
  },
  {
   "cell_type": "code",
   "execution_count": 44,
   "metadata": {
    "tags": []
   },
   "outputs": [
    {
     "output_type": "stream",
     "name": "stdout",
     "text": "[  0   1   2   3   4   5   6   7   8   9  10  11  12  13  14  15  16  17\n  18  19  20  21  22  23  24  25  26  27  28  29  30  31  32  33  34  35\n  36  37  38  39  40  41  42  43  44  45  46  47  48  49  50  51  52  53\n  54  55  56  57  58  59  60  61  62  63  64  65  66  67  68  69  70  71\n  72  73  74  75  76  77  78  79  80  81  82  83  84  85  86  87  88  89\n  90  91  92  93  94  95  96  97  98  99 100]\n"
    }
   ],
   "source": [
    "print(np.arange(len(eng_df)+1))"
   ]
  },
  {
   "cell_type": "code",
   "execution_count": 71,
   "metadata": {
    "tags": []
   },
   "outputs": [],
   "source": [
    "def ranking(df):\n",
    "    rank = 0\n",
    "    for i in np.arange(len(df)):\n",
    "        rank +=1\n",
    "        if i < len(df)-1:\n",
    "            if df[\"Points\"].iloc[i] >= df[\"Points\"].iloc[i+1]:\n",
    "                df[\"Ranking\"].iloc[i] = rank\n",
    "            elif df[\"Points\"].iloc[i] < df[\"Points\"].iloc[i+1]:\n",
    "                df[\"Ranking\"].iloc[i] = 20\n",
    "                rank = 0\n",
    "    return df"
   ]
  },
  {
   "cell_type": "code",
   "execution_count": 74,
   "metadata": {
    "tags": []
   },
   "outputs": [],
   "source": [
    "eng_df = ranking(eng_df)\n",
    "it_df = ranking(it_df)\n",
    "spain_df = ranking(spain_df)"
   ]
  },
  {
   "cell_type": "code",
   "execution_count": 75,
   "metadata": {},
   "outputs": [],
   "source": [
    "spain_df.to_csv(\"cleaned/Liga.csv\", index=False)\n",
    "it_df.to_csv(\"cleaned/SerieA.csv\",index=False)\n",
    "eng_df.to_csv(\"cleaned/EPL.csv\",index=False)"
   ]
  },
  {
   "cell_type": "code",
   "execution_count": null,
   "metadata": {},
   "outputs": [],
   "source": []
  }
 ]
}