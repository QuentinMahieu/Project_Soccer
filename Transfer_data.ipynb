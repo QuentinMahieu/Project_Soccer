{
 "cells": [
  {
   "cell_type": "code",
   "execution_count": 33,
   "metadata": {},
   "outputs": [],
   "source": [
    "import pandas as pd\n",
    "import numpy as np"
   ]
  },
  {
   "cell_type": "code",
   "execution_count": 1,
   "metadata": {},
   "outputs": [],
   "source": [
    "years = [2013,2014,2015,2016,2017,2018,2019]\n",
    "leagues = [\"english_premier_league\",\"italian_serie_a\",\"spanish_primera_division\"]"
   ]
  },
  {
   "cell_type": "code",
   "execution_count": 2,
   "metadata": {},
   "outputs": [],
   "source": [
    "# Creating a function that will merge the various years for each league chosen\n",
    "def data_org(league):\n",
    "    appended_data = []\n",
    "    for year in years:\n",
    "        file_path=f\"../transfers/data/{year}/{league}.csv\"\n",
    "        df_league = pd.read_csv(file_path)\n",
    "        appended_data.append(df_league)\n",
    "    new_df = pd.concat(appended_data)\n",
    "    return new_df"
   ]
  },
  {
   "cell_type": "code",
   "execution_count": 5,
   "metadata": {},
   "outputs": [],
   "source": [
    "# Applying the function to build our datasets\n",
    "premier_league_df = data_org(leagues[0])\n",
    "italian_df = data_org(leagues[1])\n",
    "spanish_df = data_org(leagues[2])"
   ]
  },
  {
   "cell_type": "code",
   "execution_count": 6,
   "metadata": {},
   "outputs": [],
   "source": [
    "# Cleaning to only include relevant columns\n",
    "italian_clean_df = italian_df[[\"year\",\"club_name\",\"transfer_movement\",\"fee_cleaned\"]]\n",
    "english_clean_df = premier_league_df[[\"year\",\"club_name\",\"transfer_movement\",\"fee_cleaned\"]]\n",
    "spanish_clean_df = spanish_df[[\"year\",\"club_name\",\"transfer_movement\",\"fee_cleaned\"]]"
   ]
  },
  {
   "cell_type": "code",
   "execution_count": 17,
   "metadata": {},
   "outputs": [],
   "source": [
    "# Filtering to show only players signed, not players sold.\n",
    "italian_clean_df = italian_clean_df[italian_clean_df[\"transfer_movement\"]=='in']\n",
    "english_clean_df = english_clean_df[english_clean_df[\"transfer_movement\"]=='in']\n",
    "spanish_clean_df = spanish_clean_df[spanish_clean_df[\"transfer_movement\"]=='in']"
   ]
  },
  {
   "cell_type": "code",
   "execution_count": 47,
   "metadata": {},
   "outputs": [],
   "source": [
    "def group_and_clean(df):\n",
    "    df_group = df.groupby([\"year\",\"club_name\"]).sum()\n",
    "    df_group = df_group.sort_values(by=[\"year\",\"fee_cleaned\"],ascending=False).rename(columns={\"fee_cleaned\": \"Transfer Spend (Euros)\"}).reset_index()\n",
    "    df_group = df_group.rename(columns={\"club_name\":\"Teams\"})\n",
    "    return df_group"
   ]
  },
  {
   "cell_type": "code",
   "execution_count": 48,
   "metadata": {},
   "outputs": [],
   "source": [
    "italian_summary = group_and_clean(italian_clean_df)\n",
    "english_summary = group_and_clean(english_clean_df)\n",
    "spanish_summary = group_and_clean(spanish_clean_df)"
   ]
  },
  {
   "cell_type": "code",
   "execution_count": 49,
   "metadata": {},
   "outputs": [
    {
     "data": {
      "text/html": [
       "<div>\n",
       "<style scoped>\n",
       "    .dataframe tbody tr th:only-of-type {\n",
       "        vertical-align: middle;\n",
       "    }\n",
       "\n",
       "    .dataframe tbody tr th {\n",
       "        vertical-align: top;\n",
       "    }\n",
       "\n",
       "    .dataframe thead th {\n",
       "        text-align: right;\n",
       "    }\n",
       "</style>\n",
       "<table border=\"1\" class=\"dataframe\">\n",
       "  <thead>\n",
       "    <tr style=\"text-align: right;\">\n",
       "      <th></th>\n",
       "      <th>year</th>\n",
       "      <th>Teams</th>\n",
       "      <th>Transfer Spend (Euros)</th>\n",
       "    </tr>\n",
       "  </thead>\n",
       "  <tbody>\n",
       "    <tr>\n",
       "      <th>0</th>\n",
       "      <td>2019</td>\n",
       "      <td>Real Madrid</td>\n",
       "      <td>317.250</td>\n",
       "    </tr>\n",
       "    <tr>\n",
       "      <th>1</th>\n",
       "      <td>2019</td>\n",
       "      <td>FC Barcelona</td>\n",
       "      <td>245.700</td>\n",
       "    </tr>\n",
       "    <tr>\n",
       "      <th>2</th>\n",
       "      <td>2019</td>\n",
       "      <td>Atlético Madrid</td>\n",
       "      <td>219.150</td>\n",
       "    </tr>\n",
       "    <tr>\n",
       "      <th>3</th>\n",
       "      <td>2019</td>\n",
       "      <td>Sevilla FC</td>\n",
       "      <td>159.980</td>\n",
       "    </tr>\n",
       "    <tr>\n",
       "      <th>4</th>\n",
       "      <td>2019</td>\n",
       "      <td>Real Betis Balompié</td>\n",
       "      <td>90.230</td>\n",
       "    </tr>\n",
       "    <tr>\n",
       "      <th>...</th>\n",
       "      <td>...</td>\n",
       "      <td>...</td>\n",
       "      <td>...</td>\n",
       "    </tr>\n",
       "    <tr>\n",
       "      <th>135</th>\n",
       "      <td>2013</td>\n",
       "      <td>RCD Espanyol Barcelona</td>\n",
       "      <td>0.675</td>\n",
       "    </tr>\n",
       "    <tr>\n",
       "      <th>136</th>\n",
       "      <td>2013</td>\n",
       "      <td>Elche CF</td>\n",
       "      <td>0.585</td>\n",
       "    </tr>\n",
       "    <tr>\n",
       "      <th>137</th>\n",
       "      <td>2013</td>\n",
       "      <td>Levante UD</td>\n",
       "      <td>0.270</td>\n",
       "    </tr>\n",
       "    <tr>\n",
       "      <th>138</th>\n",
       "      <td>2013</td>\n",
       "      <td>Rayo Vallecano</td>\n",
       "      <td>0.000</td>\n",
       "    </tr>\n",
       "    <tr>\n",
       "      <th>139</th>\n",
       "      <td>2013</td>\n",
       "      <td>UD Almería</td>\n",
       "      <td>0.000</td>\n",
       "    </tr>\n",
       "  </tbody>\n",
       "</table>\n",
       "<p>140 rows × 3 columns</p>\n",
       "</div>"
      ],
      "text/plain": [
       "     year                   Teams  Transfer Spend (Euros)\n",
       "0    2019             Real Madrid                 317.250\n",
       "1    2019            FC Barcelona                 245.700\n",
       "2    2019         Atlético Madrid                 219.150\n",
       "3    2019              Sevilla FC                 159.980\n",
       "4    2019     Real Betis Balompié                  90.230\n",
       "..    ...                     ...                     ...\n",
       "135  2013  RCD Espanyol Barcelona                   0.675\n",
       "136  2013                Elche CF                   0.585\n",
       "137  2013              Levante UD                   0.270\n",
       "138  2013          Rayo Vallecano                   0.000\n",
       "139  2013              UD Almería                   0.000\n",
       "\n",
       "[140 rows x 3 columns]"
      ]
     },
     "execution_count": 49,
     "metadata": {},
     "output_type": "execute_result"
    }
   ],
   "source": [
    "spanish_summary"
   ]
  },
  {
   "cell_type": "code",
   "execution_count": null,
   "metadata": {},
   "outputs": [],
   "source": []
  },
  {
   "cell_type": "code",
   "execution_count": null,
   "metadata": {},
   "outputs": [],
   "source": []
  }
 ],
 "metadata": {
  "kernelspec": {
   "display_name": "Python 3",
   "language": "python",
   "name": "python3"
  },
  "language_info": {
   "codemirror_mode": {
    "name": "ipython",
    "version": 3
   },
   "file_extension": ".py",
   "mimetype": "text/x-python",
   "name": "python",
   "nbconvert_exporter": "python",
   "pygments_lexer": "ipython3",
   "version": "3.6.10"
  }
 },
 "nbformat": 4,
 "nbformat_minor": 4
}
