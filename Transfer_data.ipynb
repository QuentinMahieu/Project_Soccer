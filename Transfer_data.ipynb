{
 "cells": [
  {
   "cell_type": "code",
   "execution_count": 1,
   "metadata": {},
   "outputs": [],
   "source": [
    "import pandas as pd"
   ]
  },
  {
   "cell_type": "code",
   "execution_count": 2,
   "metadata": {},
   "outputs": [],
   "source": [
    "years = [2012,2013,2014,2015,2016,2017,2018,2019]\n",
    "leagues = [\"english_premier_league\",\"italian_serie_a\",\"spanish_primera_division\"]"
   ]
  },
  {
   "cell_type": "code",
   "execution_count": null,
   "metadata": {},
   "outputs": [],
   "source": []
  },
  {
   "cell_type": "code",
   "execution_count": 3,
   "metadata": {},
   "outputs": [],
   "source": [
    "premier_league_df = pd.read_csv(\"../transfers/data/2015/english_premier_league.csv\")\n",
    "empty_df = premier_league_df[0:0]"
   ]
  },
  {
   "cell_type": "code",
   "execution_count": 4,
   "metadata": {},
   "outputs": [
    {
     "data": {
      "text/html": [
       "<div>\n",
       "<style scoped>\n",
       "    .dataframe tbody tr th:only-of-type {\n",
       "        vertical-align: middle;\n",
       "    }\n",
       "\n",
       "    .dataframe tbody tr th {\n",
       "        vertical-align: top;\n",
       "    }\n",
       "\n",
       "    .dataframe thead th {\n",
       "        text-align: right;\n",
       "    }\n",
       "</style>\n",
       "<table border=\"1\" class=\"dataframe\">\n",
       "  <thead>\n",
       "    <tr style=\"text-align: right;\">\n",
       "      <th></th>\n",
       "      <th>club_name</th>\n",
       "      <th>player_name</th>\n",
       "      <th>age</th>\n",
       "      <th>position</th>\n",
       "      <th>club_involved_name</th>\n",
       "      <th>fee</th>\n",
       "      <th>transfer_movement</th>\n",
       "      <th>transfer_period</th>\n",
       "      <th>fee_cleaned</th>\n",
       "      <th>league_name</th>\n",
       "      <th>year</th>\n",
       "      <th>season</th>\n",
       "    </tr>\n",
       "  </thead>\n",
       "  <tbody>\n",
       "  </tbody>\n",
       "</table>\n",
       "</div>"
      ],
      "text/plain": [
       "Empty DataFrame\n",
       "Columns: [club_name, player_name, age, position, club_involved_name, fee, transfer_movement, transfer_period, fee_cleaned, league_name, year, season]\n",
       "Index: []"
      ]
     },
     "execution_count": 4,
     "metadata": {},
     "output_type": "execute_result"
    }
   ],
   "source": [
    "empty_df"
   ]
  },
  {
   "cell_type": "code",
   "execution_count": 5,
   "metadata": {},
   "outputs": [],
   "source": [
    "def data_org(league):\n",
    "    appended_data = []\n",
    "    for year in years:\n",
    "        file_path=f\"../transfers/data/{year}/{league}.csv\"\n",
    "        df_league = pd.read_csv(file_path)\n",
    "        appended_data.append(df_league)\n",
    "    new_df = pd.concat(appended_data)\n",
    "    return new_df\n",
    "\n"
   ]
  },
  {
   "cell_type": "code",
   "execution_count": 6,
   "metadata": {},
   "outputs": [],
   "source": [
    "premier_league_df = data_org(leagues[0])\n",
    "italian_df = data_org(leagues[1])\n",
    "spanish_df = data_org(leagues[2])"
   ]
  },
  {
   "cell_type": "code",
   "execution_count": 7,
   "metadata": {},
   "outputs": [],
   "source": [
    "italian_clean_df = italian_df[[\"year\",\"club_name\",\"transfer_movement\",\"fee_cleaned\"]]\n",
    "english_clean_df = premier_league_df[[\"year\",\"club_name\",\"transfer_movement\",\"fee_cleaned\"]]\n",
    "spanish_clean_df = spanish_df[[\"year\",\"club_name\",\"transfer_movement\",\"fee_cleaned\"]]"
   ]
  },
  {
   "cell_type": "code",
   "execution_count": 8,
   "metadata": {},
   "outputs": [],
   "source": [
    "italian_clean_df = italian_clean_df[italian_clean_df[\"transfer_movement\"]=='in']\n",
    "english_clean_df = english_clean_df[english_clean_df[\"transfer_movement\"]=='in']\n",
    "spanish_clean_df = spanish_clean_df[spanish_clean_df[\"transfer_movement\"]=='in']"
   ]
  },
  {
   "cell_type": "code",
   "execution_count": 14,
   "metadata": {},
   "outputs": [],
   "source": [
    "italian_group = italian_clean_df.groupby([\"year\",\"club_name\"]).sum()\n"
   ]
  },
  {
   "cell_type": "code",
   "execution_count": 19,
   "metadata": {},
   "outputs": [
    {
     "data": {
      "text/html": [
       "<div>\n",
       "<style scoped>\n",
       "    .dataframe tbody tr th:only-of-type {\n",
       "        vertical-align: middle;\n",
       "    }\n",
       "\n",
       "    .dataframe tbody tr th {\n",
       "        vertical-align: top;\n",
       "    }\n",
       "\n",
       "    .dataframe thead th {\n",
       "        text-align: right;\n",
       "    }\n",
       "</style>\n",
       "<table border=\"1\" class=\"dataframe\">\n",
       "  <thead>\n",
       "    <tr style=\"text-align: right;\">\n",
       "      <th></th>\n",
       "      <th></th>\n",
       "      <th>fee_cleaned</th>\n",
       "    </tr>\n",
       "    <tr>\n",
       "      <th>year</th>\n",
       "      <th>club_name</th>\n",
       "      <th></th>\n",
       "    </tr>\n",
       "  </thead>\n",
       "  <tbody>\n",
       "    <tr>\n",
       "      <th rowspan=\"5\" valign=\"top\">2019</th>\n",
       "      <th>Juventus FC</th>\n",
       "      <td>201.150</td>\n",
       "    </tr>\n",
       "    <tr>\n",
       "      <th>SSC Napoli</th>\n",
       "      <td>176.850</td>\n",
       "    </tr>\n",
       "    <tr>\n",
       "      <th>Inter Milan</th>\n",
       "      <td>171.284</td>\n",
       "    </tr>\n",
       "    <tr>\n",
       "      <th>AS Roma</th>\n",
       "      <td>102.690</td>\n",
       "    </tr>\n",
       "    <tr>\n",
       "      <th>AC Milan</th>\n",
       "      <td>94.050</td>\n",
       "    </tr>\n",
       "    <tr>\n",
       "      <th>...</th>\n",
       "      <th>...</th>\n",
       "      <td>...</td>\n",
       "    </tr>\n",
       "    <tr>\n",
       "      <th rowspan=\"5\" valign=\"top\">2012</th>\n",
       "      <th>AC Siena</th>\n",
       "      <td>10.295</td>\n",
       "    </tr>\n",
       "    <tr>\n",
       "      <th>Bologna FC 1909</th>\n",
       "      <td>9.260</td>\n",
       "    </tr>\n",
       "    <tr>\n",
       "      <th>Chievo Verona</th>\n",
       "      <td>8.550</td>\n",
       "    </tr>\n",
       "    <tr>\n",
       "      <th>Calcio Catania</th>\n",
       "      <td>8.125</td>\n",
       "    </tr>\n",
       "    <tr>\n",
       "      <th>SS Lazio</th>\n",
       "      <td>1.377</td>\n",
       "    </tr>\n",
       "  </tbody>\n",
       "</table>\n",
       "<p>160 rows × 1 columns</p>\n",
       "</div>"
      ],
      "text/plain": [
       "                      fee_cleaned\n",
       "year club_name                   \n",
       "2019 Juventus FC          201.150\n",
       "     SSC Napoli           176.850\n",
       "     Inter Milan          171.284\n",
       "     AS Roma              102.690\n",
       "     AC Milan              94.050\n",
       "...                           ...\n",
       "2012 AC Siena              10.295\n",
       "     Bologna FC 1909        9.260\n",
       "     Chievo Verona          8.550\n",
       "     Calcio Catania         8.125\n",
       "     SS Lazio               1.377\n",
       "\n",
       "[160 rows x 1 columns]"
      ]
     },
     "execution_count": 19,
     "metadata": {},
     "output_type": "execute_result"
    }
   ],
   "source": [
    "italian_group.sort_values(by=[\"year\",\"fee_cleaned\"],ascending=False)"
   ]
  },
  {
   "cell_type": "code",
   "execution_count": null,
   "metadata": {},
   "outputs": [],
   "source": []
  },
  {
   "cell_type": "code",
   "execution_count": null,
   "metadata": {},
   "outputs": [],
   "source": []
  }
 ],
 "metadata": {
  "kernelspec": {
   "display_name": "Python 3",
   "language": "python",
   "name": "python3"
  },
  "language_info": {
   "codemirror_mode": {
    "name": "ipython",
    "version": 3
   },
   "file_extension": ".py",
   "mimetype": "text/x-python",
   "name": "python",
   "nbconvert_exporter": "python",
   "pygments_lexer": "ipython3",
   "version": "3.6.10"
  }
 },
 "nbformat": 4,
 "nbformat_minor": 4
}
