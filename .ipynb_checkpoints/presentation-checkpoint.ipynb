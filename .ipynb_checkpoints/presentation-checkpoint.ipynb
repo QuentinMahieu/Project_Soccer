{
 "cells": [
  {
   "cell_type": "markdown",
   "metadata": {
    "slideshow": {
     "slide_type": "slide"
    }
   },
   "source": [
    "# The Winning Team\n",
    "    \n",
    "### Goal of the project\n",
    "\n",
    "Can we discover how to build a winning football (soccer) team? \n",
    "\n"
   ]
  },
  {
   "cell_type": "markdown",
   "metadata": {
    "slideshow": {
     "slide_type": "subslide"
    }
   },
   "source": [
    "### Our approach\n",
    "\n",
    "We are going to examine the strongest performers in three of the top leagues in Europe for the last 5 years.\n",
    "\n",
    "    * England (English Premier League)\n",
    "    * Spain (Liga)\n",
    "    * Italy (Serie A)\n",
    "    \n",
    "Let's see if we can find a pattern and determine the important variables that defines a winning team."
   ]
  },
  {
   "cell_type": "markdown",
   "metadata": {
    "slideshow": {
     "slide_type": "slide"
    }
   },
   "source": [
    "### The variables\n",
    "\n",
    "In teamsports there are countless of variables that could be analysed to find a trend.\n",
    "    \n",
    "    * Goals scored               * Height\n",
    "    * Player performances        * Weight\n",
    "    * Diversity                  * Money\n",
    "    * Number of passes           * Goals conceeded\n",
    "    * Possession                 * Age\n",
    "    * etc....    \n",
    " \n"
   ]
  },
  {
   "cell_type": "markdown",
   "metadata": {
    "slideshow": {
     "slide_type": "subslide"
    }
   },
   "source": [
    " For our anaysis we have decided to focus on what we believe are the most important ones.\n",
    " And evaluate this according to the ranking in the league.\n",
    "     \n",
    " let's discover our observations...... "
   ]
  },
  {
   "cell_type": "code",
   "execution_count": 2,
   "metadata": {
    "slideshow": {
     "slide_type": "skip"
    }
   },
   "outputs": [],
   "source": [
    "from IPython.display import Image\n",
    "import pandas as pd"
   ]
  },
  {
   "cell_type": "code",
   "execution_count": 7,
   "metadata": {
    "slideshow": {
     "slide_type": "slide"
    }
   },
   "outputs": [],
   "source": [
    "#Ranking vs average player value \n",
    "img1 = Image(\"Ouput_data/RankingVSavg_player_value_(EU).png\")\n",
    "#img1"
   ]
  },
  {
   "cell_type": "markdown",
   "metadata": {
    "slideshow": {
     "slide_type": "subslide"
    }
   },
   "source": [
    "|League|Correlation|P-value|\n",
    "|------|-----------|-------|\n",
    "|EPL|- 0.8|8.32e-19|\n",
    "|Liga|-0.7|6.34e-13|\n",
    "|Serie A|-0.81|8.69e-20|\n",
    "\n",
    "- We observe that the variance in ranking is explained between 49% and 66% by the scored goals.\n",
    "- The calculated r's indicate a strong correlation for the 3 leagues between ranking and player value.\n",
    "- The p-values indicate that the correlation is statisticaly significant."
   ]
  },
  {
   "cell_type": "code",
   "execution_count": 6,
   "metadata": {
    "slideshow": {
     "slide_type": "slide"
    }
   },
   "outputs": [],
   "source": [
    "#Ranking vs average player wage \n",
    "img2 = Image(\"Ouput_data/RankingVSavg_player_wage.png\")\n",
    "#img2"
   ]
  },
  {
   "cell_type": "markdown",
   "metadata": {
    "slideshow": {
     "slide_type": "subslide"
    }
   },
   "source": [
    "|League|Correlation|P-value|\n",
    "|------|-----------|-------|\n",
    "|EPL|- 0.76|2.16e-16|\n",
    "|Liga|-0.63|3.91e-10|\n",
    "|Serie A|-0.8|8.06e-199|\n",
    "\n",
    "- We observe that the variance in ranking is explained between 40% and 64% by the scored goals.\n",
    "- The calculated r's indicate a strong correlation for EPL & Serie A, moderate for the Liga.\n",
    "- The p-values indicate that the correlation is statisticaly significant."
   ]
  },
  {
   "cell_type": "code",
   "execution_count": 8,
   "metadata": {
    "slideshow": {
     "slide_type": "slide"
    }
   },
   "outputs": [],
   "source": [
    "#and conceeded goals\n",
    "img3 = Image(\"Ouput_data/RankingVSGoals+.png\")\n",
    "#img3"
   ]
  },
  {
   "cell_type": "markdown",
   "metadata": {
    "slideshow": {
     "slide_type": "subslide"
    }
   },
   "source": [
    "|League|Correlation|P-value|\n",
    "|------|-----------|-------|\n",
    "|EPL|- 0.74|8.58e-19|\n",
    "|Liga|-0.66|4.71e-14|\n",
    "|Serie A|-0.75|1.56e-19|\n",
    "\n",
    "- We observe that the variance in ranking is explained between 44% and 57% by the scored goals.\n",
    "- The calculated r's indicate a strong correlation for EPL & Serie A, moderate for the Liga.\n",
    "- The p-values indicate that the correlation is statisticaly significant."
   ]
  },
  {
   "cell_type": "code",
   "execution_count": 9,
   "metadata": {
    "slideshow": {
     "slide_type": "slide"
    }
   },
   "outputs": [],
   "source": [
    "#and conceeded goals\n",
    "img4 = Image(\"Ouput_data/RankingVSGoals-.png\")\n",
    "#img4"
   ]
  },
  {
   "cell_type": "markdown",
   "metadata": {
    "slideshow": {
     "slide_type": "subslide"
    }
   },
   "source": [
    "|League|Correlation|P-value|\n",
    "|------|-----------|-------|\n",
    "|EPL|0.78|1.69e-21|\n",
    "|Liga|0.69|1.20e-15|\n",
    "|Serie A|0.75|6.17e-20|\n",
    "\n",
    "- We observe that the variance in ranking is explained between 48% and 61% by the scored goals.\n",
    "- The calculated r'sindicate a strong correlation for the 3 leagues.\n",
    "- The calculated p-values indicate that the correlation is statisticaly significant."
   ]
  },
  {
   "cell_type": "code",
   "execution_count": null,
   "metadata": {},
   "outputs": [],
   "source": []
  }
 ],
 "metadata": {
  "celltoolbar": "Slideshow",
  "kernelspec": {
   "display_name": "Python 3.6.10 64-bit ('PythonDataNew': conda)",
   "language": "python",
   "name": "python361064bitpythondatanewcondae7a48796120c4badafdc12c7c6175686"
  },
  "language_info": {
   "codemirror_mode": {
    "name": "ipython",
    "version": 3
   },
   "file_extension": ".py",
   "mimetype": "text/x-python",
   "name": "python",
   "nbconvert_exporter": "python",
   "pygments_lexer": "ipython3",
   "version": "3.6.10"
  }
 },
 "nbformat": 4,
 "nbformat_minor": 4
}
