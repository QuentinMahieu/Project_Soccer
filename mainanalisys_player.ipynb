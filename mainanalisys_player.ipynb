{
 "metadata": {
  "language_info": {
   "codemirror_mode": {
    "name": "ipython",
    "version": 3
   },
   "file_extension": ".py",
   "mimetype": "text/x-python",
   "name": "python",
   "nbconvert_exporter": "python",
   "pygments_lexer": "ipython3",
   "version": "3.6.10-final"
  },
  "orig_nbformat": 2,
  "kernelspec": {
   "name": "python_defaultSpec_1602111735721",
   "display_name": "Python 3.6.10 64-bit ('PythonDataNew': conda)"
  }
 },
 "nbformat": 4,
 "nbformat_minor": 2,
 "cells": [
  {
   "cell_type": "code",
   "execution_count": 485,
   "metadata": {},
   "outputs": [],
   "source": [
    "#import usefull modules\n",
    "import pandas as pd\n",
    "import scipy.stats as stats\n",
    "import numpy as np\n",
    "from functions import cleanup\n",
    "from pprint import pprint"
   ]
  },
  {
   "cell_type": "code",
   "execution_count": 486,
   "metadata": {},
   "outputs": [],
   "source": [
    "#import files and read the data\n",
    "path_2019 = \"Team_player_data/raw/players_20.csv\"\n",
    "path_2020 = \"Team_player_data/raw/players_20.csv\"\n",
    "path_epl = \"Team_player_data/cleaned/EPL.csv\"\n",
    "path_liga = \"Team_player_data/cleaned/Liga.csv\"\n",
    "path_seriea = \"Team_player_data/cleaned/SerieA.csv\"\n",
    "\n",
    "players_19 = pd.read_csv(path_2019)\n",
    "players_20 = pd.read_csv(path_2020)\n",
    "epl_df = pd.read_csv(path_epl)\n",
    "liga_df = pd.read_csv(path_liga)\n",
    "seriea_df = pd.read_csv(path_seriea)\n",
    "list_leagues = [epl_df,liga_df,seriea_df]"
   ]
  },
  {
   "cell_type": "code",
   "execution_count": 487,
   "metadata": {},
   "outputs": [],
   "source": [
    "players_19 = players_19.loc[:,\"short_name\":'goalkeeping_reflexes'].rename({\"club\": \"Teams\"},axis=1)\n",
    "players_20 = players_20.loc[:,\"short_name\":'goalkeeping_reflexes'].rename({\"club\": \"Teams\"},axis=1)\n",
    "del players_19[\"dob\"]\n",
    "del players_19[\"long_name\"]\n",
    "del players_20[\"dob\"]\n",
    "del players_20[\"long_name\"]\n",
    "players_19 = cleanup(players_19)\n",
    "players_20 = cleanup(players_20)"
   ]
  },
  {
   "cell_type": "code",
   "execution_count": 488,
   "metadata": {},
   "outputs": [],
   "source": [
    "#We want to know a bit more about the players in the top 4 of each team and averages per position\n",
    "players_19 = players_19[(players_19[\"Teams\"].isin(epl_df[\"Teams\"])) | (\n",
    "    players_19[\"Teams\"].isin(liga_df[\"Teams\"]) | players_19[\"Teams\"].isin(seriea_df[\"Teams\"]))]\n",
    "players_20 = players_20[(players_20[\"Teams\"].isin(epl_df[\"Teams\"])) | (\n",
    "    players_20[\"Teams\"].isin(liga_df[\"Teams\"]) | players_20[\"Teams\"].isin(seriea_df[\"Teams\"]))]"
   ]
  },
  {
   "cell_type": "code",
   "execution_count": 489,
   "metadata": {},
   "outputs": [],
   "source": [
    "# position groups\n",
    "list_players = [players_19,players_20]\n",
    "strikers = [\"^LF$\",\"^LS$\",\"^CF$\",\"^RS$\",\"^RF$\"]\n",
    "middfilders_off = [\"^LAM$\",\"^RAM$\"]\n",
    "middfilders_central = [\"^M$\",\"^LM$\",\"^RM$\",\"^RCM$\",]\n",
    "middfilders_def = [\"^DM$\"]\n",
    "central_back = [\"^CH$\",\"^RCB$\"]\n",
    "left_back = [\"^LH$\",\"^LWD$\",\"^LCB$\",\"^LDM$\",\"^LWB$\"]\n",
    "right_back = [\"^RH$\",\"^RWD$\",\"^RCB$\",\"^RDM$\",\"^RWB$\"]\n",
    "goalkeeper = [\"^SUB$\",\"^RES$\"]\n",
    "for df in list_players:\n",
    "    for position in strikers:\n",
    "        df[\"team_position\"] = df[\"team_position\"].str.replace(position,\"ST\")\n",
    "    for position in middfilders_off:\n",
    "        df[\"team_position\"] = df[\"team_position\"].str.replace(position,\"CAM\")\n",
    "    for position in middfilders_central:\n",
    "        df[\"team_position\"] = df[\"team_position\"].str.replace(position,\"CM\")\n",
    "    for position in middfilders_def:\n",
    "        df[\"team_position\"] = df[\"team_position\"].str.replace(position,\"CDM\")\n",
    "    for position in central_back:\n",
    "        df[\"team_position\"] = df[\"team_position\"].str.replace(position,\"CB\")\n",
    "    for position in left_back:\n",
    "        df[\"team_position\"] = df[\"team_position\"].str.replace(position,\"LB\")\n",
    "    for position in right_back:\n",
    "        df[\"team_position\"] = df[\"team_position\"].str.replace(position,\"RB\")\n",
    "    for position in goalkeeper:\n",
    "        df[\"team_position\"] = df[\"team_position\"].str.replace(position,\"GK\")"
   ]
  },
  {
   "cell_type": "code",
   "execution_count": 491,
   "metadata": {},
   "outputs": [
    {
     "output_type": "execute_result",
     "data": {
      "text/plain": "   team_position        age   height_cm  weight_kg    overall  potential  \\\n0            CAM  26.206897  178.000000  71.068966  75.896552  79.344828   \n1             CB  27.818182  187.161616  80.636364  76.060606  78.565657   \n2            CDM  27.774194  181.612903  75.290323  77.258065  79.548387   \n3             CM  26.071429  178.505952  72.601190  75.958333  79.255952   \n4             GK  24.581042  182.466940  75.856056  69.622586  76.079579   \n5             LB  27.028571  183.217143  77.480000  75.622857  78.405714   \n6            LCM  26.290323  179.822581  73.112903  75.983871  79.403226   \n7             LW  25.047619  177.333333  72.571429  78.809524  83.000000   \n8             RB  26.505376  178.870968  73.354839  74.731183  77.903226   \n9             RW  25.285714  177.761905  72.571429  79.095238  82.142857   \n10            ST  27.413223  182.892562  77.165289  77.272727  79.462810   \n\n       value_eur       wage_eur  international_reputation  weak_foot  ...  \\\n0   1.182241e+07   38413.793103                  1.689655   3.310345  ...   \n1   1.039975e+07   40545.454545                  1.525253   2.959596  ...   \n2   1.458548e+07   59258.064516                  1.709677   3.322581  ...   \n3   1.247679e+07   41303.571429                  1.482143   3.321429  ...   \n4   4.859567e+06   23800.468110                  1.248683   2.963136  ...   \n5   1.028669e+07   41565.714286                  1.468571   2.914286  ...   \n6   1.201855e+07   43887.096774                  1.596774   3.258065  ...   \n7   2.596667e+07  109761.904762                  2.047619   3.380952  ...   \n8   8.258065e+06   34838.709677                  1.354839   3.064516  ...   \n9   2.521190e+07   93809.523810                  2.000000   3.238095  ...   \n10  1.474483e+07   50289.256198                  1.702479   3.446281  ...   \n\n    mentality_penalties  mentality_composure  defending_marking  \\\n0             66.172414            73.379310          50.758621   \n1             43.212121            69.414141          75.818182   \n2             63.000000            74.967742          70.000000   \n3             61.416667            72.273810          58.398810   \n4             48.537156            61.991808          47.451726   \n5             51.142857            69.582857          72.885714   \n6             62.274194            74.516129          64.258065   \n7             68.952381            73.571429          38.476190   \n8             51.000000            70.075269          71.139785   \n9             67.904762            76.619048          40.523810   \n10            72.553719            74.066116          38.495868   \n\n    defending_standing_tackle  defending_sliding_tackle  goalkeeping_diving  \\\n0                   51.413793                 47.379310           10.068966   \n1                   77.323232                 75.212121           10.171717   \n2                   74.193548                 70.838710            9.483871   \n3                   58.017857                 54.255952           10.660714   \n4                   47.691047                 45.557051           20.076068   \n5                   75.411429                 73.805714           10.668571   \n6                   66.564516                 62.532258           10.306452   \n7                   36.714286                 31.571429           12.000000   \n8                   74.365591                 72.612903           11.000000   \n9                   37.000000                 32.095238            9.714286   \n10                  32.140496                 27.644628           11.049587   \n\n    goalkeeping_handling  goalkeeping_kicking  goalkeeping_positioning  \\\n0              11.586207            11.655172                10.241379   \n1              10.080808            10.404040                 9.757576   \n2              10.580645            10.225806                10.322581   \n3              10.434524            10.577381                10.357143   \n4              19.679930            19.208309                19.782914   \n5              10.565714            10.200000                10.211429   \n6              10.951613            10.258065                 9.903226   \n7              10.190476            11.142857                11.142857   \n8              10.548387            10.301075                10.892473   \n9              10.904762            10.047619                 9.857143   \n10             11.024793            10.545455                10.636364   \n\n    goalkeeping_reflexes  \n0              10.241379  \n1              10.313131  \n2               9.677419  \n3              11.136905  \n4              20.237566  \n5              10.571429  \n6              10.161290  \n7              11.333333  \n8              10.483871  \n9               9.333333  \n10             10.520661  \n\n[11 rows x 61 columns]",
      "text/html": "<div>\n<style scoped>\n    .dataframe tbody tr th:only-of-type {\n        vertical-align: middle;\n    }\n\n    .dataframe tbody tr th {\n        vertical-align: top;\n    }\n\n    .dataframe thead th {\n        text-align: right;\n    }\n</style>\n<table border=\"1\" class=\"dataframe\">\n  <thead>\n    <tr style=\"text-align: right;\">\n      <th></th>\n      <th>team_position</th>\n      <th>age</th>\n      <th>height_cm</th>\n      <th>weight_kg</th>\n      <th>overall</th>\n      <th>potential</th>\n      <th>value_eur</th>\n      <th>wage_eur</th>\n      <th>international_reputation</th>\n      <th>weak_foot</th>\n      <th>...</th>\n      <th>mentality_penalties</th>\n      <th>mentality_composure</th>\n      <th>defending_marking</th>\n      <th>defending_standing_tackle</th>\n      <th>defending_sliding_tackle</th>\n      <th>goalkeeping_diving</th>\n      <th>goalkeeping_handling</th>\n      <th>goalkeeping_kicking</th>\n      <th>goalkeeping_positioning</th>\n      <th>goalkeeping_reflexes</th>\n    </tr>\n  </thead>\n  <tbody>\n    <tr>\n      <th>0</th>\n      <td>CAM</td>\n      <td>26.206897</td>\n      <td>178.000000</td>\n      <td>71.068966</td>\n      <td>75.896552</td>\n      <td>79.344828</td>\n      <td>1.182241e+07</td>\n      <td>38413.793103</td>\n      <td>1.689655</td>\n      <td>3.310345</td>\n      <td>...</td>\n      <td>66.172414</td>\n      <td>73.379310</td>\n      <td>50.758621</td>\n      <td>51.413793</td>\n      <td>47.379310</td>\n      <td>10.068966</td>\n      <td>11.586207</td>\n      <td>11.655172</td>\n      <td>10.241379</td>\n      <td>10.241379</td>\n    </tr>\n    <tr>\n      <th>1</th>\n      <td>CB</td>\n      <td>27.818182</td>\n      <td>187.161616</td>\n      <td>80.636364</td>\n      <td>76.060606</td>\n      <td>78.565657</td>\n      <td>1.039975e+07</td>\n      <td>40545.454545</td>\n      <td>1.525253</td>\n      <td>2.959596</td>\n      <td>...</td>\n      <td>43.212121</td>\n      <td>69.414141</td>\n      <td>75.818182</td>\n      <td>77.323232</td>\n      <td>75.212121</td>\n      <td>10.171717</td>\n      <td>10.080808</td>\n      <td>10.404040</td>\n      <td>9.757576</td>\n      <td>10.313131</td>\n    </tr>\n    <tr>\n      <th>2</th>\n      <td>CDM</td>\n      <td>27.774194</td>\n      <td>181.612903</td>\n      <td>75.290323</td>\n      <td>77.258065</td>\n      <td>79.548387</td>\n      <td>1.458548e+07</td>\n      <td>59258.064516</td>\n      <td>1.709677</td>\n      <td>3.322581</td>\n      <td>...</td>\n      <td>63.000000</td>\n      <td>74.967742</td>\n      <td>70.000000</td>\n      <td>74.193548</td>\n      <td>70.838710</td>\n      <td>9.483871</td>\n      <td>10.580645</td>\n      <td>10.225806</td>\n      <td>10.322581</td>\n      <td>9.677419</td>\n    </tr>\n    <tr>\n      <th>3</th>\n      <td>CM</td>\n      <td>26.071429</td>\n      <td>178.505952</td>\n      <td>72.601190</td>\n      <td>75.958333</td>\n      <td>79.255952</td>\n      <td>1.247679e+07</td>\n      <td>41303.571429</td>\n      <td>1.482143</td>\n      <td>3.321429</td>\n      <td>...</td>\n      <td>61.416667</td>\n      <td>72.273810</td>\n      <td>58.398810</td>\n      <td>58.017857</td>\n      <td>54.255952</td>\n      <td>10.660714</td>\n      <td>10.434524</td>\n      <td>10.577381</td>\n      <td>10.357143</td>\n      <td>11.136905</td>\n    </tr>\n    <tr>\n      <th>4</th>\n      <td>GK</td>\n      <td>24.581042</td>\n      <td>182.466940</td>\n      <td>75.856056</td>\n      <td>69.622586</td>\n      <td>76.079579</td>\n      <td>4.859567e+06</td>\n      <td>23800.468110</td>\n      <td>1.248683</td>\n      <td>2.963136</td>\n      <td>...</td>\n      <td>48.537156</td>\n      <td>61.991808</td>\n      <td>47.451726</td>\n      <td>47.691047</td>\n      <td>45.557051</td>\n      <td>20.076068</td>\n      <td>19.679930</td>\n      <td>19.208309</td>\n      <td>19.782914</td>\n      <td>20.237566</td>\n    </tr>\n    <tr>\n      <th>5</th>\n      <td>LB</td>\n      <td>27.028571</td>\n      <td>183.217143</td>\n      <td>77.480000</td>\n      <td>75.622857</td>\n      <td>78.405714</td>\n      <td>1.028669e+07</td>\n      <td>41565.714286</td>\n      <td>1.468571</td>\n      <td>2.914286</td>\n      <td>...</td>\n      <td>51.142857</td>\n      <td>69.582857</td>\n      <td>72.885714</td>\n      <td>75.411429</td>\n      <td>73.805714</td>\n      <td>10.668571</td>\n      <td>10.565714</td>\n      <td>10.200000</td>\n      <td>10.211429</td>\n      <td>10.571429</td>\n    </tr>\n    <tr>\n      <th>6</th>\n      <td>LCM</td>\n      <td>26.290323</td>\n      <td>179.822581</td>\n      <td>73.112903</td>\n      <td>75.983871</td>\n      <td>79.403226</td>\n      <td>1.201855e+07</td>\n      <td>43887.096774</td>\n      <td>1.596774</td>\n      <td>3.258065</td>\n      <td>...</td>\n      <td>62.274194</td>\n      <td>74.516129</td>\n      <td>64.258065</td>\n      <td>66.564516</td>\n      <td>62.532258</td>\n      <td>10.306452</td>\n      <td>10.951613</td>\n      <td>10.258065</td>\n      <td>9.903226</td>\n      <td>10.161290</td>\n    </tr>\n    <tr>\n      <th>7</th>\n      <td>LW</td>\n      <td>25.047619</td>\n      <td>177.333333</td>\n      <td>72.571429</td>\n      <td>78.809524</td>\n      <td>83.000000</td>\n      <td>2.596667e+07</td>\n      <td>109761.904762</td>\n      <td>2.047619</td>\n      <td>3.380952</td>\n      <td>...</td>\n      <td>68.952381</td>\n      <td>73.571429</td>\n      <td>38.476190</td>\n      <td>36.714286</td>\n      <td>31.571429</td>\n      <td>12.000000</td>\n      <td>10.190476</td>\n      <td>11.142857</td>\n      <td>11.142857</td>\n      <td>11.333333</td>\n    </tr>\n    <tr>\n      <th>8</th>\n      <td>RB</td>\n      <td>26.505376</td>\n      <td>178.870968</td>\n      <td>73.354839</td>\n      <td>74.731183</td>\n      <td>77.903226</td>\n      <td>8.258065e+06</td>\n      <td>34838.709677</td>\n      <td>1.354839</td>\n      <td>3.064516</td>\n      <td>...</td>\n      <td>51.000000</td>\n      <td>70.075269</td>\n      <td>71.139785</td>\n      <td>74.365591</td>\n      <td>72.612903</td>\n      <td>11.000000</td>\n      <td>10.548387</td>\n      <td>10.301075</td>\n      <td>10.892473</td>\n      <td>10.483871</td>\n    </tr>\n    <tr>\n      <th>9</th>\n      <td>RW</td>\n      <td>25.285714</td>\n      <td>177.761905</td>\n      <td>72.571429</td>\n      <td>79.095238</td>\n      <td>82.142857</td>\n      <td>2.521190e+07</td>\n      <td>93809.523810</td>\n      <td>2.000000</td>\n      <td>3.238095</td>\n      <td>...</td>\n      <td>67.904762</td>\n      <td>76.619048</td>\n      <td>40.523810</td>\n      <td>37.000000</td>\n      <td>32.095238</td>\n      <td>9.714286</td>\n      <td>10.904762</td>\n      <td>10.047619</td>\n      <td>9.857143</td>\n      <td>9.333333</td>\n    </tr>\n    <tr>\n      <th>10</th>\n      <td>ST</td>\n      <td>27.413223</td>\n      <td>182.892562</td>\n      <td>77.165289</td>\n      <td>77.272727</td>\n      <td>79.462810</td>\n      <td>1.474483e+07</td>\n      <td>50289.256198</td>\n      <td>1.702479</td>\n      <td>3.446281</td>\n      <td>...</td>\n      <td>72.553719</td>\n      <td>74.066116</td>\n      <td>38.495868</td>\n      <td>32.140496</td>\n      <td>27.644628</td>\n      <td>11.049587</td>\n      <td>11.024793</td>\n      <td>10.545455</td>\n      <td>10.636364</td>\n      <td>10.520661</td>\n    </tr>\n  </tbody>\n</table>\n<p>11 rows × 61 columns</p>\n</div>"
     },
     "metadata": {},
     "execution_count": 491
    }
   ],
   "source": [
    "grouped_df_19 = players_19.groupby(\"team_position\")\n",
    "grouped_mean_19 = grouped_df_19.mean().reset_index()\n",
    "grouped_mean_19"
   ]
  },
  {
   "cell_type": "code",
   "execution_count": 492,
   "metadata": {
    "tags": []
   },
   "outputs": [
    {
     "output_type": "execute_result",
     "data": {
      "text/plain": "          age  height_cm  weight_kg  overall  international_reputation  \\\nCAM  0.405993   0.017874   0.268465      1.0                  0.788438   \nCB   0.135969   0.128501   0.049448      1.0                  0.684469   \nCDM  0.069401   0.370059   0.041413      1.0                  0.788111   \nCM   0.228637  -0.007623   0.055060      1.0                  0.723270   \nGK   0.559681   0.122663   0.259408      1.0                  0.575958   \nLB   0.189721   0.066574   0.237811      1.0                  0.669342   \nLCM  0.290342   0.034050   0.004076      1.0                  0.672228   \nLW   0.620713  -0.187994  -0.017519      1.0                  0.799007   \nRB   0.086753  -0.054099  -0.119211      1.0                  0.603054   \nRW   0.200137  -0.270168  -0.145655      1.0                  0.785803   \nST   0.116005  -0.051422   0.153181      1.0                  0.641615   \n\n     weak_foot  skill_moves      pace  shooting   passing  ...  \\\nCAM  -0.219912     0.484849  0.016885  0.840466  0.884788  ...   \nCB    0.197805     0.142061  0.283825  0.374645  0.544953  ...   \nCDM  -0.004431     0.145858 -0.160148  0.351686  0.695113  ...   \nCM    0.297851     0.342503  0.055121  0.648397  0.814962  ...   \nGK    0.199195     0.262913  0.208464  0.494672  0.677430  ...   \nLB    0.184345     0.251532  0.152188  0.377714  0.493952  ...   \nLCM   0.073406     0.474951 -0.103235  0.705471  0.873096  ...   \nLW    0.453646     0.764655  0.722172  0.886175  0.849137  ...   \nRB    0.142176     0.415082  0.172992  0.538809  0.845454  ...   \nRW    0.372804     0.522673  0.048113  0.924225  0.888888  ...   \nST    0.335525     0.446414  0.274461  0.894716  0.703593  ...   \n\n     mentality_penalties  mentality_composure  defending_marking  \\\nCAM             0.564470             0.853982           0.320245   \nCB              0.294496             0.796567           0.920317   \nCDM             0.303295             0.787027           0.501659   \nCM              0.354066             0.799018           0.206258   \nGK              0.203998             0.706508           0.231346   \nLB              0.316003             0.801247           0.755335   \nLCM             0.462198             0.856245           0.342036   \nLW              0.685084             0.924524           0.261433   \nRB              0.277384             0.708036           0.715074   \nRW              0.637594             0.950108           0.081775   \nST              0.476788             0.785581           0.274504   \n\n     defending_standing_tackle  defending_sliding_tackle  goalkeeping_diving  \\\nCAM                   0.097373                  0.129580            0.231724   \nCB                    0.957211                  0.927720           -0.111707   \nCDM                   0.670360                  0.611805           -0.045795   \nCM                    0.183346                  0.107736            0.149400   \nGK                    0.178768                  0.153579            0.129374   \nLB                    0.769912                  0.714749           -0.098502   \nLCM                   0.348820                  0.199813            0.054237   \nLW                    0.335385                  0.201474           -0.347558   \nRB                    0.769332                  0.650660            0.051046   \nRW                    0.226723                  0.105248           -0.255912   \nST                    0.250594                  0.248265           -0.016883   \n\n     goalkeeping_handling  goalkeeping_kicking  goalkeeping_positioning  \\\nCAM             -0.372342            -0.284758                 0.155045   \nCB              -0.024830             0.013563                 0.162366   \nCDM             -0.226087            -0.049947                -0.159485   \nCM               0.035647            -0.096510                -0.061242   \nGK               0.129845             0.122600                 0.133844   \nLB              -0.038618            -0.047803                -0.097191   \nLCM              0.213718             0.031508                 0.029035   \nLW              -0.142212             0.319756                 0.299159   \nRB              -0.136526             0.210851                 0.085231   \nRW              -0.169270             0.089114                 0.335342   \nST               0.038098             0.066767                 0.048276   \n\n     goalkeeping_reflexes  \nCAM              0.121990  \nCB               0.037446  \nCDM             -0.075391  \nCM              -0.187221  \nGK               0.125275  \nLB              -0.214085  \nLCM              0.189851  \nLW              -0.103906  \nRB              -0.139771  \nRW               0.103486  \nST              -0.005773  \n\n[11 rows x 53 columns]",
      "text/html": "<div>\n<style scoped>\n    .dataframe tbody tr th:only-of-type {\n        vertical-align: middle;\n    }\n\n    .dataframe tbody tr th {\n        vertical-align: top;\n    }\n\n    .dataframe thead th {\n        text-align: right;\n    }\n</style>\n<table border=\"1\" class=\"dataframe\">\n  <thead>\n    <tr style=\"text-align: right;\">\n      <th></th>\n      <th>age</th>\n      <th>height_cm</th>\n      <th>weight_kg</th>\n      <th>overall</th>\n      <th>international_reputation</th>\n      <th>weak_foot</th>\n      <th>skill_moves</th>\n      <th>pace</th>\n      <th>shooting</th>\n      <th>passing</th>\n      <th>...</th>\n      <th>mentality_penalties</th>\n      <th>mentality_composure</th>\n      <th>defending_marking</th>\n      <th>defending_standing_tackle</th>\n      <th>defending_sliding_tackle</th>\n      <th>goalkeeping_diving</th>\n      <th>goalkeeping_handling</th>\n      <th>goalkeeping_kicking</th>\n      <th>goalkeeping_positioning</th>\n      <th>goalkeeping_reflexes</th>\n    </tr>\n  </thead>\n  <tbody>\n    <tr>\n      <th>CAM</th>\n      <td>0.405993</td>\n      <td>0.017874</td>\n      <td>0.268465</td>\n      <td>1.0</td>\n      <td>0.788438</td>\n      <td>-0.219912</td>\n      <td>0.484849</td>\n      <td>0.016885</td>\n      <td>0.840466</td>\n      <td>0.884788</td>\n      <td>...</td>\n      <td>0.564470</td>\n      <td>0.853982</td>\n      <td>0.320245</td>\n      <td>0.097373</td>\n      <td>0.129580</td>\n      <td>0.231724</td>\n      <td>-0.372342</td>\n      <td>-0.284758</td>\n      <td>0.155045</td>\n      <td>0.121990</td>\n    </tr>\n    <tr>\n      <th>CB</th>\n      <td>0.135969</td>\n      <td>0.128501</td>\n      <td>0.049448</td>\n      <td>1.0</td>\n      <td>0.684469</td>\n      <td>0.197805</td>\n      <td>0.142061</td>\n      <td>0.283825</td>\n      <td>0.374645</td>\n      <td>0.544953</td>\n      <td>...</td>\n      <td>0.294496</td>\n      <td>0.796567</td>\n      <td>0.920317</td>\n      <td>0.957211</td>\n      <td>0.927720</td>\n      <td>-0.111707</td>\n      <td>-0.024830</td>\n      <td>0.013563</td>\n      <td>0.162366</td>\n      <td>0.037446</td>\n    </tr>\n    <tr>\n      <th>CDM</th>\n      <td>0.069401</td>\n      <td>0.370059</td>\n      <td>0.041413</td>\n      <td>1.0</td>\n      <td>0.788111</td>\n      <td>-0.004431</td>\n      <td>0.145858</td>\n      <td>-0.160148</td>\n      <td>0.351686</td>\n      <td>0.695113</td>\n      <td>...</td>\n      <td>0.303295</td>\n      <td>0.787027</td>\n      <td>0.501659</td>\n      <td>0.670360</td>\n      <td>0.611805</td>\n      <td>-0.045795</td>\n      <td>-0.226087</td>\n      <td>-0.049947</td>\n      <td>-0.159485</td>\n      <td>-0.075391</td>\n    </tr>\n    <tr>\n      <th>CM</th>\n      <td>0.228637</td>\n      <td>-0.007623</td>\n      <td>0.055060</td>\n      <td>1.0</td>\n      <td>0.723270</td>\n      <td>0.297851</td>\n      <td>0.342503</td>\n      <td>0.055121</td>\n      <td>0.648397</td>\n      <td>0.814962</td>\n      <td>...</td>\n      <td>0.354066</td>\n      <td>0.799018</td>\n      <td>0.206258</td>\n      <td>0.183346</td>\n      <td>0.107736</td>\n      <td>0.149400</td>\n      <td>0.035647</td>\n      <td>-0.096510</td>\n      <td>-0.061242</td>\n      <td>-0.187221</td>\n    </tr>\n    <tr>\n      <th>GK</th>\n      <td>0.559681</td>\n      <td>0.122663</td>\n      <td>0.259408</td>\n      <td>1.0</td>\n      <td>0.575958</td>\n      <td>0.199195</td>\n      <td>0.262913</td>\n      <td>0.208464</td>\n      <td>0.494672</td>\n      <td>0.677430</td>\n      <td>...</td>\n      <td>0.203998</td>\n      <td>0.706508</td>\n      <td>0.231346</td>\n      <td>0.178768</td>\n      <td>0.153579</td>\n      <td>0.129374</td>\n      <td>0.129845</td>\n      <td>0.122600</td>\n      <td>0.133844</td>\n      <td>0.125275</td>\n    </tr>\n    <tr>\n      <th>LB</th>\n      <td>0.189721</td>\n      <td>0.066574</td>\n      <td>0.237811</td>\n      <td>1.0</td>\n      <td>0.669342</td>\n      <td>0.184345</td>\n      <td>0.251532</td>\n      <td>0.152188</td>\n      <td>0.377714</td>\n      <td>0.493952</td>\n      <td>...</td>\n      <td>0.316003</td>\n      <td>0.801247</td>\n      <td>0.755335</td>\n      <td>0.769912</td>\n      <td>0.714749</td>\n      <td>-0.098502</td>\n      <td>-0.038618</td>\n      <td>-0.047803</td>\n      <td>-0.097191</td>\n      <td>-0.214085</td>\n    </tr>\n    <tr>\n      <th>LCM</th>\n      <td>0.290342</td>\n      <td>0.034050</td>\n      <td>0.004076</td>\n      <td>1.0</td>\n      <td>0.672228</td>\n      <td>0.073406</td>\n      <td>0.474951</td>\n      <td>-0.103235</td>\n      <td>0.705471</td>\n      <td>0.873096</td>\n      <td>...</td>\n      <td>0.462198</td>\n      <td>0.856245</td>\n      <td>0.342036</td>\n      <td>0.348820</td>\n      <td>0.199813</td>\n      <td>0.054237</td>\n      <td>0.213718</td>\n      <td>0.031508</td>\n      <td>0.029035</td>\n      <td>0.189851</td>\n    </tr>\n    <tr>\n      <th>LW</th>\n      <td>0.620713</td>\n      <td>-0.187994</td>\n      <td>-0.017519</td>\n      <td>1.0</td>\n      <td>0.799007</td>\n      <td>0.453646</td>\n      <td>0.764655</td>\n      <td>0.722172</td>\n      <td>0.886175</td>\n      <td>0.849137</td>\n      <td>...</td>\n      <td>0.685084</td>\n      <td>0.924524</td>\n      <td>0.261433</td>\n      <td>0.335385</td>\n      <td>0.201474</td>\n      <td>-0.347558</td>\n      <td>-0.142212</td>\n      <td>0.319756</td>\n      <td>0.299159</td>\n      <td>-0.103906</td>\n    </tr>\n    <tr>\n      <th>RB</th>\n      <td>0.086753</td>\n      <td>-0.054099</td>\n      <td>-0.119211</td>\n      <td>1.0</td>\n      <td>0.603054</td>\n      <td>0.142176</td>\n      <td>0.415082</td>\n      <td>0.172992</td>\n      <td>0.538809</td>\n      <td>0.845454</td>\n      <td>...</td>\n      <td>0.277384</td>\n      <td>0.708036</td>\n      <td>0.715074</td>\n      <td>0.769332</td>\n      <td>0.650660</td>\n      <td>0.051046</td>\n      <td>-0.136526</td>\n      <td>0.210851</td>\n      <td>0.085231</td>\n      <td>-0.139771</td>\n    </tr>\n    <tr>\n      <th>RW</th>\n      <td>0.200137</td>\n      <td>-0.270168</td>\n      <td>-0.145655</td>\n      <td>1.0</td>\n      <td>0.785803</td>\n      <td>0.372804</td>\n      <td>0.522673</td>\n      <td>0.048113</td>\n      <td>0.924225</td>\n      <td>0.888888</td>\n      <td>...</td>\n      <td>0.637594</td>\n      <td>0.950108</td>\n      <td>0.081775</td>\n      <td>0.226723</td>\n      <td>0.105248</td>\n      <td>-0.255912</td>\n      <td>-0.169270</td>\n      <td>0.089114</td>\n      <td>0.335342</td>\n      <td>0.103486</td>\n    </tr>\n    <tr>\n      <th>ST</th>\n      <td>0.116005</td>\n      <td>-0.051422</td>\n      <td>0.153181</td>\n      <td>1.0</td>\n      <td>0.641615</td>\n      <td>0.335525</td>\n      <td>0.446414</td>\n      <td>0.274461</td>\n      <td>0.894716</td>\n      <td>0.703593</td>\n      <td>...</td>\n      <td>0.476788</td>\n      <td>0.785581</td>\n      <td>0.274504</td>\n      <td>0.250594</td>\n      <td>0.248265</td>\n      <td>-0.016883</td>\n      <td>0.038098</td>\n      <td>0.066767</td>\n      <td>0.048276</td>\n      <td>-0.005773</td>\n    </tr>\n  </tbody>\n</table>\n<p>11 rows × 53 columns</p>\n</div>"
     },
     "metadata": {},
     "execution_count": 492
    }
   ],
   "source": [
    "#we want to know the correlation bewteen the overall rating and the rest of the columns\n",
    "position_corr = {}\n",
    "droped_df_2019 = players_19.drop(players_19.columns[[0,4,5,7,8,9,10,25, 26, 21, 22, 23, 24, 18, 19]],axis=1)\n",
    "for position in list(grouped_mean_19[\"team_position\"].unique()):\n",
    "    position_corr[position] = droped_df_2019[droped_df_2019[\"team_position\"]== position].corr()[\"overall\"]\n",
    "position_corr_df = pd.DataFrame.from_dict(position_corr).T \n",
    "position_corr_df   "
   ]
  },
  {
   "cell_type": "code",
   "execution_count": 464,
   "metadata": {
    "tags": []
   },
   "outputs": [
    {
     "output_type": "execute_result",
     "data": {
      "text/plain": "                         1                          2  \\\nCAM     skill_ball_control    attacking_short_passing   \nCB               defending  defending_standing_tackle   \nCDM     movement_reactions    attacking_short_passing   \nCM      skill_ball_control         movement_reactions   \nGK               gk_diving                gk_handling   \nLB      movement_reactions        mentality_composure   \nLCM     skill_ball_control    attacking_short_passing   \nLW   mentality_positioning         skill_ball_control   \nRB      skill_ball_control         movement_reactions   \nRW     mentality_composure         movement_reactions   \nST                shooting      mentality_positioning   \n\n                            3                          4  \\\nCAM           skill_dribbling                  dribbling   \nCB   defending_sliding_tackle          defending_marking   \nCDM        skill_ball_control    mentality_interceptions   \nCM                    passing    attacking_short_passing   \nGK             gk_positioning                gk_reflexes   \nLB                  defending  defending_standing_tackle   \nLCM                   passing        mentality_composure   \nLW         movement_reactions        mentality_composure   \nRB                    passing    attacking_short_passing   \nRW                   shooting                  dribbling   \nST         movement_reactions         skill_ball_control   \n\n                            5  \nCAM                   passing  \nCB    mentality_interceptions  \nCDM  international_reputation  \nCM        mentality_composure  \nGK         movement_reactions  \nLB          defending_marking  \nLCM                 dribbling  \nLW                  dribbling  \nRB                  dribbling  \nRW    attacking_short_passing  \nST           power_shot_power  ",
      "text/html": "<div>\n<style scoped>\n    .dataframe tbody tr th:only-of-type {\n        vertical-align: middle;\n    }\n\n    .dataframe tbody tr th {\n        vertical-align: top;\n    }\n\n    .dataframe thead th {\n        text-align: right;\n    }\n</style>\n<table border=\"1\" class=\"dataframe\">\n  <thead>\n    <tr style=\"text-align: right;\">\n      <th></th>\n      <th>1</th>\n      <th>2</th>\n      <th>3</th>\n      <th>4</th>\n      <th>5</th>\n    </tr>\n  </thead>\n  <tbody>\n    <tr>\n      <th>CAM</th>\n      <td>skill_ball_control</td>\n      <td>attacking_short_passing</td>\n      <td>skill_dribbling</td>\n      <td>dribbling</td>\n      <td>passing</td>\n    </tr>\n    <tr>\n      <th>CB</th>\n      <td>defending</td>\n      <td>defending_standing_tackle</td>\n      <td>defending_sliding_tackle</td>\n      <td>defending_marking</td>\n      <td>mentality_interceptions</td>\n    </tr>\n    <tr>\n      <th>CDM</th>\n      <td>movement_reactions</td>\n      <td>attacking_short_passing</td>\n      <td>skill_ball_control</td>\n      <td>mentality_interceptions</td>\n      <td>international_reputation</td>\n    </tr>\n    <tr>\n      <th>CM</th>\n      <td>skill_ball_control</td>\n      <td>movement_reactions</td>\n      <td>passing</td>\n      <td>attacking_short_passing</td>\n      <td>mentality_composure</td>\n    </tr>\n    <tr>\n      <th>GK</th>\n      <td>gk_diving</td>\n      <td>gk_handling</td>\n      <td>gk_positioning</td>\n      <td>gk_reflexes</td>\n      <td>movement_reactions</td>\n    </tr>\n    <tr>\n      <th>LB</th>\n      <td>movement_reactions</td>\n      <td>mentality_composure</td>\n      <td>defending</td>\n      <td>defending_standing_tackle</td>\n      <td>defending_marking</td>\n    </tr>\n    <tr>\n      <th>LCM</th>\n      <td>skill_ball_control</td>\n      <td>attacking_short_passing</td>\n      <td>passing</td>\n      <td>mentality_composure</td>\n      <td>dribbling</td>\n    </tr>\n    <tr>\n      <th>LW</th>\n      <td>mentality_positioning</td>\n      <td>skill_ball_control</td>\n      <td>movement_reactions</td>\n      <td>mentality_composure</td>\n      <td>dribbling</td>\n    </tr>\n    <tr>\n      <th>RB</th>\n      <td>skill_ball_control</td>\n      <td>movement_reactions</td>\n      <td>passing</td>\n      <td>attacking_short_passing</td>\n      <td>dribbling</td>\n    </tr>\n    <tr>\n      <th>RW</th>\n      <td>mentality_composure</td>\n      <td>movement_reactions</td>\n      <td>shooting</td>\n      <td>dribbling</td>\n      <td>attacking_short_passing</td>\n    </tr>\n    <tr>\n      <th>ST</th>\n      <td>shooting</td>\n      <td>mentality_positioning</td>\n      <td>movement_reactions</td>\n      <td>skill_ball_control</td>\n      <td>power_shot_power</td>\n    </tr>\n  </tbody>\n</table>\n</div>"
     },
     "metadata": {},
     "execution_count": 464
    }
   ],
   "source": [
    "#most correlated values with overall player rating\n",
    "corr_df = position_corr_df.apply(lambda s, n: pd.Series(s.nlargest(n).index), axis=1, n=6).iloc[:,1:]\n",
    "corr_df"
   ]
  },
  {
   "cell_type": "code",
   "execution_count": null,
   "metadata": {},
   "outputs": [],
   "source": []
  }
 ]
}