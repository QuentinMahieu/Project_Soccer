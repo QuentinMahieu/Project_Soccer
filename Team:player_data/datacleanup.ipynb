{
 "metadata": {
  "language_info": {
   "codemirror_mode": {
    "name": "ipython",
    "version": 3
   },
   "file_extension": ".py",
   "mimetype": "text/x-python",
   "name": "python",
   "nbconvert_exporter": "python",
   "pygments_lexer": "ipython3",
   "version": "3.6.10-final"
  },
  "orig_nbformat": 2,
  "kernelspec": {
   "name": "python_defaultSpec_1601510317122",
   "display_name": "Python 3.6.10 64-bit"
  }
 },
 "nbformat": 4,
 "nbformat_minor": 2,
 "cells": [
  {
   "cell_type": "code",
   "execution_count": 380,
   "metadata": {
    "tags": []
   },
   "outputs": [],
   "source": [
    "#Import the modules\n",
    "import pandas as pd\n",
    "pd.set_option('display.max_columns', None)\n",
    "# file paths to files\n",
    "#players\n",
    "path_2015 = \"raw/players_15.csv\"\n",
    "path_2016 = \"raw/players_16.csv\"\n",
    "path_2017 = \"raw/players_17.csv\"\n",
    "path_2018 = \"raw/players_18.csv\"\n",
    "path_2019 = \"raw/players_19.csv\"\n",
    "path_2020 = \"raw/players_20.csv\"\n",
    "#teams\n",
    "path_teams = \"raw/big_five_1995-2019.csv\""
   ]
  },
  {
   "cell_type": "code",
   "execution_count": 393,
   "metadata": {
    "tags": []
   },
   "outputs": [
    {
     "output_type": "stream",
     "name": "stdout",
     "text": "['ENG' 'ESP' 'FR' 'GER' 'IT']\n"
    },
    {
     "output_type": "execute_result",
     "data": {
      "text/plain": "                  Teams2015  Points2015  Goals+2015  Goals-2015            Teams2016  Points2016  Goals+2016  Goals-2016                   Teams2017  Points2017  Goals+2017  Goals-2017                    Teams2018  Points2018  Goals+2018  Goals-2018              Teams2019  Points2019  Goals+2019  Goals-2019\n0  AFC Bournemouth           42          23          34          Burnley FC           40          26          20          Arsenal FC                  63          54          20          Manchester United FC         66          33          25          Liverpool FC           82          40          12        \n1  Chelsea FC                50          32          30          Crystal Palace FC    41          24          25          Brighton & Hove Albion FC   40          24          25          AFC Bournemouth              45          30          25          West Ham United FC     27          23          26        \n2  Everton FC                47          35          30          Everton FC           61          42          16          Chelsea FC                  70          30          16          Fulham FC                    26          22          36          AFC Bournemouth        27          17          21        \n3  Leicester City FC         81          35          18          Hull City AFC        34          28          35          Crystal Palace FC           44          29          27          Huddersfield Town AFC        16          10          31          Burnley FC             39          20          19        \n4  Manchester United FC      66          27          9           Manchester City FC   78          37          17          Everton FC                  49          28          22          Newcastle United FC          45          24          25          Crystal Palace FC      39          12          13        \n5  Norwich City FC           34          26          30          Middlesbrough FC     28          17          23          Southampton FC              36          20          26          Watford FC                   50          26          28          Watford FC             27          16          17        \n6  Arsenal FC                71          31          11          Southampton FC       46          17          21          Watford FC                  41          27          31          Wolverhampton Wanderers FC   57          28          21          Tottenham Hotspur FC   41          27          15        \n7  Newcastle United FC       37          32          24          Arsenal FC           75          39          16          West Bromwich Albion FC     31          21          29          Arsenal FC                   70          42          16          Leicester City FC      53          30          15        \n8  Stoke City FC             51          22          24          AFC Bournemouth      46          35          29          Manchester United FC        81          38          9           Liverpool FC                 97          55          10          Newcastle United FC    35          12          12        \n9  West Bromwich Albion FC   43          20          26          Chelsea FC           93          55          17          Newcastle United FC         44          21          17          Southampton FC               39          27          30          Manchester United FC   45          29          12        ",
      "text/html": "<div>\n<style scoped>\n    .dataframe tbody tr th:only-of-type {\n        vertical-align: middle;\n    }\n\n    .dataframe tbody tr th {\n        vertical-align: top;\n    }\n\n    .dataframe thead th {\n        text-align: right;\n    }\n</style>\n<table border=\"1\" class=\"dataframe\">\n  <thead>\n    <tr style=\"text-align: right;\">\n      <th></th>\n      <th>Teams2015</th>\n      <th>Points2015</th>\n      <th>Goals+2015</th>\n      <th>Goals-2015</th>\n      <th>Teams2016</th>\n      <th>Points2016</th>\n      <th>Goals+2016</th>\n      <th>Goals-2016</th>\n      <th>Teams2017</th>\n      <th>Points2017</th>\n      <th>Goals+2017</th>\n      <th>Goals-2017</th>\n      <th>Teams2018</th>\n      <th>Points2018</th>\n      <th>Goals+2018</th>\n      <th>Goals-2018</th>\n      <th>Teams2019</th>\n      <th>Points2019</th>\n      <th>Goals+2019</th>\n      <th>Goals-2019</th>\n    </tr>\n  </thead>\n  <tbody>\n    <tr>\n      <th>0</th>\n      <td>AFC Bournemouth</td>\n      <td>42</td>\n      <td>23</td>\n      <td>34</td>\n      <td>Burnley FC</td>\n      <td>40</td>\n      <td>26</td>\n      <td>20</td>\n      <td>Arsenal FC</td>\n      <td>63</td>\n      <td>54</td>\n      <td>20</td>\n      <td>Manchester United FC</td>\n      <td>66</td>\n      <td>33</td>\n      <td>25</td>\n      <td>Liverpool FC</td>\n      <td>82</td>\n      <td>40</td>\n      <td>12</td>\n    </tr>\n    <tr>\n      <th>1</th>\n      <td>Chelsea FC</td>\n      <td>50</td>\n      <td>32</td>\n      <td>30</td>\n      <td>Crystal Palace FC</td>\n      <td>41</td>\n      <td>24</td>\n      <td>25</td>\n      <td>Brighton &amp; Hove Albion FC</td>\n      <td>40</td>\n      <td>24</td>\n      <td>25</td>\n      <td>AFC Bournemouth</td>\n      <td>45</td>\n      <td>30</td>\n      <td>25</td>\n      <td>West Ham United FC</td>\n      <td>27</td>\n      <td>23</td>\n      <td>26</td>\n    </tr>\n    <tr>\n      <th>2</th>\n      <td>Everton FC</td>\n      <td>47</td>\n      <td>35</td>\n      <td>30</td>\n      <td>Everton FC</td>\n      <td>61</td>\n      <td>42</td>\n      <td>16</td>\n      <td>Chelsea FC</td>\n      <td>70</td>\n      <td>30</td>\n      <td>16</td>\n      <td>Fulham FC</td>\n      <td>26</td>\n      <td>22</td>\n      <td>36</td>\n      <td>AFC Bournemouth</td>\n      <td>27</td>\n      <td>17</td>\n      <td>21</td>\n    </tr>\n    <tr>\n      <th>3</th>\n      <td>Leicester City FC</td>\n      <td>81</td>\n      <td>35</td>\n      <td>18</td>\n      <td>Hull City AFC</td>\n      <td>34</td>\n      <td>28</td>\n      <td>35</td>\n      <td>Crystal Palace FC</td>\n      <td>44</td>\n      <td>29</td>\n      <td>27</td>\n      <td>Huddersfield Town AFC</td>\n      <td>16</td>\n      <td>10</td>\n      <td>31</td>\n      <td>Burnley FC</td>\n      <td>39</td>\n      <td>20</td>\n      <td>19</td>\n    </tr>\n    <tr>\n      <th>4</th>\n      <td>Manchester United FC</td>\n      <td>66</td>\n      <td>27</td>\n      <td>9</td>\n      <td>Manchester City FC</td>\n      <td>78</td>\n      <td>37</td>\n      <td>17</td>\n      <td>Everton FC</td>\n      <td>49</td>\n      <td>28</td>\n      <td>22</td>\n      <td>Newcastle United FC</td>\n      <td>45</td>\n      <td>24</td>\n      <td>25</td>\n      <td>Crystal Palace FC</td>\n      <td>39</td>\n      <td>12</td>\n      <td>13</td>\n    </tr>\n    <tr>\n      <th>5</th>\n      <td>Norwich City FC</td>\n      <td>34</td>\n      <td>26</td>\n      <td>30</td>\n      <td>Middlesbrough FC</td>\n      <td>28</td>\n      <td>17</td>\n      <td>23</td>\n      <td>Southampton FC</td>\n      <td>36</td>\n      <td>20</td>\n      <td>26</td>\n      <td>Watford FC</td>\n      <td>50</td>\n      <td>26</td>\n      <td>28</td>\n      <td>Watford FC</td>\n      <td>27</td>\n      <td>16</td>\n      <td>17</td>\n    </tr>\n    <tr>\n      <th>6</th>\n      <td>Arsenal FC</td>\n      <td>71</td>\n      <td>31</td>\n      <td>11</td>\n      <td>Southampton FC</td>\n      <td>46</td>\n      <td>17</td>\n      <td>21</td>\n      <td>Watford FC</td>\n      <td>41</td>\n      <td>27</td>\n      <td>31</td>\n      <td>Wolverhampton Wanderers FC</td>\n      <td>57</td>\n      <td>28</td>\n      <td>21</td>\n      <td>Tottenham Hotspur FC</td>\n      <td>41</td>\n      <td>27</td>\n      <td>15</td>\n    </tr>\n    <tr>\n      <th>7</th>\n      <td>Newcastle United FC</td>\n      <td>37</td>\n      <td>32</td>\n      <td>24</td>\n      <td>Arsenal FC</td>\n      <td>75</td>\n      <td>39</td>\n      <td>16</td>\n      <td>West Bromwich Albion FC</td>\n      <td>31</td>\n      <td>21</td>\n      <td>29</td>\n      <td>Arsenal FC</td>\n      <td>70</td>\n      <td>42</td>\n      <td>16</td>\n      <td>Leicester City FC</td>\n      <td>53</td>\n      <td>30</td>\n      <td>15</td>\n    </tr>\n    <tr>\n      <th>8</th>\n      <td>Stoke City FC</td>\n      <td>51</td>\n      <td>22</td>\n      <td>24</td>\n      <td>AFC Bournemouth</td>\n      <td>46</td>\n      <td>35</td>\n      <td>29</td>\n      <td>Manchester United FC</td>\n      <td>81</td>\n      <td>38</td>\n      <td>9</td>\n      <td>Liverpool FC</td>\n      <td>97</td>\n      <td>55</td>\n      <td>10</td>\n      <td>Newcastle United FC</td>\n      <td>35</td>\n      <td>12</td>\n      <td>12</td>\n    </tr>\n    <tr>\n      <th>9</th>\n      <td>West Bromwich Albion FC</td>\n      <td>43</td>\n      <td>20</td>\n      <td>26</td>\n      <td>Chelsea FC</td>\n      <td>93</td>\n      <td>55</td>\n      <td>17</td>\n      <td>Newcastle United FC</td>\n      <td>44</td>\n      <td>21</td>\n      <td>17</td>\n      <td>Southampton FC</td>\n      <td>39</td>\n      <td>27</td>\n      <td>30</td>\n      <td>Manchester United FC</td>\n      <td>45</td>\n      <td>29</td>\n      <td>12</td>\n    </tr>\n  </tbody>\n</table>\n</div>"
     },
     "metadata": {},
     "execution_count": 393
    }
   ],
   "source": [
    "#read the team file to focus on the 3 leagues we want to analyse\n",
    "teams = pd.read_csv(path_teams)\n",
    "\n",
    "#find the 3 leagues for 2015 to 2019\n",
    "country_code = teams[\"Country\"].unique()\n",
    "print(country_code)\n",
    "years = [2015,2016,2017,2018,2019]\n",
    "teams = teams[(teams[\"Country\"].isin([\"ENG\",\"ESP\",\"IT\"]))& (\n",
    "                    teams[\"Year\"].isin(years))]\n",
    "\n",
    "teams = teams[['Team 1','Team 2', 'Year', 'Country',\"FT Team 1\",\"FT Team 2\",'Team 1 (pts)', 'Team 2 (pts)']]\n",
    "\n",
    "eng_teams = teams[teams[\"Country\"]== \"ENG\"]\n",
    "it_teams = teams[teams[\"Country\"]== \"IT\"]\n",
    "spain_teams = teams[teams[\"Country\"]== \"ESP\"]\n",
    "\n",
    "def rankingteams(teams):\n",
    "    ranking = {}\n",
    "    for year in years:\n",
    "        a = teams[teams[\"Year\"]==year]\n",
    "        list = a[\"Team 1\"].unique()\n",
    "        points = [0]*len(list)\n",
    "        goalsp = [0]*len(list)\n",
    "        goalsn = [0]*len(list)\n",
    "        for index,team in enumerate(list):\n",
    "            points[index] += a[a[\"Team 1\"]==team][\"Team 1 (pts)\"].sum()\n",
    "            points[index] += a[a[\"Team 2\"]==team][\"Team 2 (pts)\"].sum()\n",
    "            goalsp[index] += a[a[\"Team 1\"]==team][\"FT Team 1\"].sum()\n",
    "            goalsn[index] += a[a[\"Team 1\"]==team][\"FT Team 2\"].sum()\n",
    "            ranking.setdefault(f\"Teams{year}\",[]).append(team)\n",
    "            ranking.setdefault(f\"Points{year}\",[]).append(points[index])\n",
    "            ranking.setdefault(f\"Goals+{year}\",[]).append(goalsp[index])\n",
    "            ranking.setdefault(f\"Goals-{year}\",[]).append(goalsn[index])\n",
    "    return pd.DataFrame(ranking)\n",
    "ranking_it_df = rankingteams(it_teams)\n",
    "ranking_eng_df = rankingteams(eng_teams)\n",
    "ranking_spain_df = rankingteams(spain_teams)\n",
    "ranking_eng_df.to_csv(\"cleaned/engranking.csv\")\n",
    "ranking_eng_df.head(10)"
   ]
  },
  {
   "cell_type": "code",
   "execution_count": 394,
   "metadata": {},
   "outputs": [
    {
     "output_type": "execute_result",
     "data": {
      "text/plain": "           Teams2015  Points2015  Goals+2015  Goals-2015          Teams2016  Points2016  Goals+2016  Goals-2016          Teams2017  Points2017  Goals+2017  Goals-2017          Teams2018  Points2018  Goals+2018  Goals-2018         Teams2019  Points2019  Goals+2019  Goals-2019\n0  SS Lazio           54          32          23          Juventus           91          48          9           Juventus           95          45          8           AC Chievo Verona   20          14          37          Parma             35          17          12        \n1  Hellas Verona FC   28          21          30          AS Roma            87          50          18          Hellas Verona FC   25          14          35          SS Lazio           59          36          25          ACF Fiorentina    30          13          17        \n2  Empoli             46          22          20          Atalanta BC        72          31          18          Atalanta BC        60          30          18          Bologna FC         44          28          22          Udinese Calcio    28          10          12        \n3  ACF Fiorentina     64          34          16          Bologna FC         41          24          25          Bologna FC         39          25          26          Empoli             38          33          30          Cagliari Calcio   32          25          23        \n4  Frosinone          31          18          26          AC Chievo Verona   43          25          30          FC Crotone         35          23          25          Parma              41          18          25          AS Roma           45          26          19        ",
      "text/html": "<div>\n<style scoped>\n    .dataframe tbody tr th:only-of-type {\n        vertical-align: middle;\n    }\n\n    .dataframe tbody tr th {\n        vertical-align: top;\n    }\n\n    .dataframe thead th {\n        text-align: right;\n    }\n</style>\n<table border=\"1\" class=\"dataframe\">\n  <thead>\n    <tr style=\"text-align: right;\">\n      <th></th>\n      <th>Teams2015</th>\n      <th>Points2015</th>\n      <th>Goals+2015</th>\n      <th>Goals-2015</th>\n      <th>Teams2016</th>\n      <th>Points2016</th>\n      <th>Goals+2016</th>\n      <th>Goals-2016</th>\n      <th>Teams2017</th>\n      <th>Points2017</th>\n      <th>Goals+2017</th>\n      <th>Goals-2017</th>\n      <th>Teams2018</th>\n      <th>Points2018</th>\n      <th>Goals+2018</th>\n      <th>Goals-2018</th>\n      <th>Teams2019</th>\n      <th>Points2019</th>\n      <th>Goals+2019</th>\n      <th>Goals-2019</th>\n    </tr>\n  </thead>\n  <tbody>\n    <tr>\n      <th>0</th>\n      <td>SS Lazio</td>\n      <td>54</td>\n      <td>32</td>\n      <td>23</td>\n      <td>Juventus</td>\n      <td>91</td>\n      <td>48</td>\n      <td>9</td>\n      <td>Juventus</td>\n      <td>95</td>\n      <td>45</td>\n      <td>8</td>\n      <td>AC Chievo Verona</td>\n      <td>20</td>\n      <td>14</td>\n      <td>37</td>\n      <td>Parma</td>\n      <td>35</td>\n      <td>17</td>\n      <td>12</td>\n    </tr>\n    <tr>\n      <th>1</th>\n      <td>Hellas Verona FC</td>\n      <td>28</td>\n      <td>21</td>\n      <td>30</td>\n      <td>AS Roma</td>\n      <td>87</td>\n      <td>50</td>\n      <td>18</td>\n      <td>Hellas Verona FC</td>\n      <td>25</td>\n      <td>14</td>\n      <td>35</td>\n      <td>SS Lazio</td>\n      <td>59</td>\n      <td>36</td>\n      <td>25</td>\n      <td>ACF Fiorentina</td>\n      <td>30</td>\n      <td>13</td>\n      <td>17</td>\n    </tr>\n    <tr>\n      <th>2</th>\n      <td>Empoli</td>\n      <td>46</td>\n      <td>22</td>\n      <td>20</td>\n      <td>Atalanta BC</td>\n      <td>72</td>\n      <td>31</td>\n      <td>18</td>\n      <td>Atalanta BC</td>\n      <td>60</td>\n      <td>30</td>\n      <td>18</td>\n      <td>Bologna FC</td>\n      <td>44</td>\n      <td>28</td>\n      <td>22</td>\n      <td>Udinese Calcio</td>\n      <td>28</td>\n      <td>10</td>\n      <td>12</td>\n    </tr>\n    <tr>\n      <th>3</th>\n      <td>ACF Fiorentina</td>\n      <td>64</td>\n      <td>34</td>\n      <td>16</td>\n      <td>Bologna FC</td>\n      <td>41</td>\n      <td>24</td>\n      <td>25</td>\n      <td>Bologna FC</td>\n      <td>39</td>\n      <td>25</td>\n      <td>26</td>\n      <td>Empoli</td>\n      <td>38</td>\n      <td>33</td>\n      <td>30</td>\n      <td>Cagliari Calcio</td>\n      <td>32</td>\n      <td>25</td>\n      <td>23</td>\n    </tr>\n    <tr>\n      <th>4</th>\n      <td>Frosinone</td>\n      <td>31</td>\n      <td>18</td>\n      <td>26</td>\n      <td>AC Chievo Verona</td>\n      <td>43</td>\n      <td>25</td>\n      <td>30</td>\n      <td>FC Crotone</td>\n      <td>35</td>\n      <td>23</td>\n      <td>25</td>\n      <td>Parma</td>\n      <td>41</td>\n      <td>18</td>\n      <td>25</td>\n      <td>AS Roma</td>\n      <td>45</td>\n      <td>26</td>\n      <td>19</td>\n    </tr>\n  </tbody>\n</table>\n</div>"
     },
     "metadata": {},
     "execution_count": 394
    }
   ],
   "source": [
    "ranking_it_df.to_csv(\"cleaned/itranking.csv\")\n",
    "ranking_it_df.head()"
   ]
  },
  {
   "cell_type": "code",
   "execution_count": 395,
   "metadata": {},
   "outputs": [
    {
     "output_type": "execute_result",
     "data": {
      "text/plain": "          Teams2015  Points2015  Goals+2015  Goals-2015       Teams2016  Points2016  Goals+2016  Goals-2016       Teams2017  Points2017  Goals+2017  Goals-2017       Teams2018  Points2018  Goals+2018  Goals-2018              Teams2019  Points2019  Goals+2019  Goals-2019\n0  Málaga CF         48          26          15          RCD La Coruña   36          27          23          CD Leganés      43          19          19          Real Betis      50          25          26          Athletic Club Bilbao   37          15          7         \n1  Atlético Madrid   88          33          7           Málaga CF       46          32          25          Valencia CF     73          36          16          Girona FC       37          17          28          RC Celta Vigo          26          10          12        \n2  RCD Espanyol      43          22          28          FC Barcelona    90          64          17          RC Celta Vigo   49          34          23          FC Barcelona    87          51          17          Valencia CF            42          23          12        \n3  RCD La Coruña     42          25          34          Granada CF      20          17          32          Girona FC       51          26          22          RC Celta Vigo   41          31          25          RCD Mallorca           25          16          14        \n4  Rayo Vallecano    38          29          29          Sevilla FC      72          39          16          Sevilla FC      58          31          22          Villarreal CF   44          28          26          CD Leganés             23          13          19        ",
      "text/html": "<div>\n<style scoped>\n    .dataframe tbody tr th:only-of-type {\n        vertical-align: middle;\n    }\n\n    .dataframe tbody tr th {\n        vertical-align: top;\n    }\n\n    .dataframe thead th {\n        text-align: right;\n    }\n</style>\n<table border=\"1\" class=\"dataframe\">\n  <thead>\n    <tr style=\"text-align: right;\">\n      <th></th>\n      <th>Teams2015</th>\n      <th>Points2015</th>\n      <th>Goals+2015</th>\n      <th>Goals-2015</th>\n      <th>Teams2016</th>\n      <th>Points2016</th>\n      <th>Goals+2016</th>\n      <th>Goals-2016</th>\n      <th>Teams2017</th>\n      <th>Points2017</th>\n      <th>Goals+2017</th>\n      <th>Goals-2017</th>\n      <th>Teams2018</th>\n      <th>Points2018</th>\n      <th>Goals+2018</th>\n      <th>Goals-2018</th>\n      <th>Teams2019</th>\n      <th>Points2019</th>\n      <th>Goals+2019</th>\n      <th>Goals-2019</th>\n    </tr>\n  </thead>\n  <tbody>\n    <tr>\n      <th>0</th>\n      <td>Málaga CF</td>\n      <td>48</td>\n      <td>26</td>\n      <td>15</td>\n      <td>RCD La Coruña</td>\n      <td>36</td>\n      <td>27</td>\n      <td>23</td>\n      <td>CD Leganés</td>\n      <td>43</td>\n      <td>19</td>\n      <td>19</td>\n      <td>Real Betis</td>\n      <td>50</td>\n      <td>25</td>\n      <td>26</td>\n      <td>Athletic Club Bilbao</td>\n      <td>37</td>\n      <td>15</td>\n      <td>7</td>\n    </tr>\n    <tr>\n      <th>1</th>\n      <td>Atlético Madrid</td>\n      <td>88</td>\n      <td>33</td>\n      <td>7</td>\n      <td>Málaga CF</td>\n      <td>46</td>\n      <td>32</td>\n      <td>25</td>\n      <td>Valencia CF</td>\n      <td>73</td>\n      <td>36</td>\n      <td>16</td>\n      <td>Girona FC</td>\n      <td>37</td>\n      <td>17</td>\n      <td>28</td>\n      <td>RC Celta Vigo</td>\n      <td>26</td>\n      <td>10</td>\n      <td>12</td>\n    </tr>\n    <tr>\n      <th>2</th>\n      <td>RCD Espanyol</td>\n      <td>43</td>\n      <td>22</td>\n      <td>28</td>\n      <td>FC Barcelona</td>\n      <td>90</td>\n      <td>64</td>\n      <td>17</td>\n      <td>RC Celta Vigo</td>\n      <td>49</td>\n      <td>34</td>\n      <td>23</td>\n      <td>FC Barcelona</td>\n      <td>87</td>\n      <td>51</td>\n      <td>17</td>\n      <td>Valencia CF</td>\n      <td>42</td>\n      <td>23</td>\n      <td>12</td>\n    </tr>\n    <tr>\n      <th>3</th>\n      <td>RCD La Coruña</td>\n      <td>42</td>\n      <td>25</td>\n      <td>34</td>\n      <td>Granada CF</td>\n      <td>20</td>\n      <td>17</td>\n      <td>32</td>\n      <td>Girona FC</td>\n      <td>51</td>\n      <td>26</td>\n      <td>22</td>\n      <td>RC Celta Vigo</td>\n      <td>41</td>\n      <td>31</td>\n      <td>25</td>\n      <td>RCD Mallorca</td>\n      <td>25</td>\n      <td>16</td>\n      <td>14</td>\n    </tr>\n    <tr>\n      <th>4</th>\n      <td>Rayo Vallecano</td>\n      <td>38</td>\n      <td>29</td>\n      <td>29</td>\n      <td>Sevilla FC</td>\n      <td>72</td>\n      <td>39</td>\n      <td>16</td>\n      <td>Sevilla FC</td>\n      <td>58</td>\n      <td>31</td>\n      <td>22</td>\n      <td>Villarreal CF</td>\n      <td>44</td>\n      <td>28</td>\n      <td>26</td>\n      <td>CD Leganés</td>\n      <td>23</td>\n      <td>13</td>\n      <td>19</td>\n    </tr>\n  </tbody>\n</table>\n</div>"
     },
     "metadata": {},
     "execution_count": 395
    }
   ],
   "source": [
    "ranking_spain_df.to_csv(\"cleaned/spainranking.csv\")\n",
    "ranking_spain_df.head()"
   ]
  },
  {
   "cell_type": "code",
   "execution_count": null,
   "metadata": {},
   "outputs": [],
   "source": []
  }
 ]
}