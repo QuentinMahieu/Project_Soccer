{
 "metadata": {
  "language_info": {
   "codemirror_mode": {
    "name": "ipython",
    "version": 3
   },
   "file_extension": ".py",
   "mimetype": "text/x-python",
   "name": "python",
   "nbconvert_exporter": "python",
   "pygments_lexer": "ipython3",
   "version": "3.6.10-final"
  },
  "orig_nbformat": 2,
  "kernelspec": {
   "name": "python_defaultSpec_1601540999418",
   "display_name": "Python 3.6.10 64-bit"
  }
 },
 "nbformat": 4,
 "nbformat_minor": 2,
 "cells": [
  {
   "cell_type": "code",
   "execution_count": 2,
   "metadata": {
    "tags": []
   },
   "outputs": [],
   "source": [
    "#Import the modules\n",
    "import pandas as pd\n",
    "pd.set_option('display.max_columns', None)\n",
    "# file paths to files\n",
    "#players\n",
    "path_2015 = \"raw/players_15.csv\"\n",
    "path_2016 = \"raw/players_16.csv\"\n",
    "path_2017 = \"raw/players_17.csv\"\n",
    "path_2018 = \"raw/players_18.csv\"\n",
    "path_2019 = \"raw/players_19.csv\"\n",
    "path_2020 = \"raw/players_20.csv\"\n",
    "#teams\n",
    "path_teams = \"raw/big_five_1995-2019.csv\""
   ]
  },
  {
   "cell_type": "code",
   "execution_count": 32,
   "metadata": {
    "tags": []
   },
   "outputs": [
    {
     "output_type": "stream",
     "name": "stdout",
     "text": "['ENG' 'ESP' 'FR' 'GER' 'IT']\n"
    },
    {
     "output_type": "execute_result",
     "data": {
      "text/plain": "    Year                  Teams  Points  Goals+  Goals-\n80  2019          Liverpool FC       82      40      12\n96  2019    Manchester City FC       57      33      12\n87  2019     Leicester City FC       53      30      15\n98  2019            Chelsea FC       48      22      15\n89  2019  Manchester United FC       45      29      12",
      "text/html": "<div>\n<style scoped>\n    .dataframe tbody tr th:only-of-type {\n        vertical-align: middle;\n    }\n\n    .dataframe tbody tr th {\n        vertical-align: top;\n    }\n\n    .dataframe thead th {\n        text-align: right;\n    }\n</style>\n<table border=\"1\" class=\"dataframe\">\n  <thead>\n    <tr style=\"text-align: right;\">\n      <th></th>\n      <th>Year</th>\n      <th>Teams</th>\n      <th>Points</th>\n      <th>Goals+</th>\n      <th>Goals-</th>\n    </tr>\n  </thead>\n  <tbody>\n    <tr>\n      <th>80</th>\n      <td>2019</td>\n      <td>Liverpool FC</td>\n      <td>82</td>\n      <td>40</td>\n      <td>12</td>\n    </tr>\n    <tr>\n      <th>96</th>\n      <td>2019</td>\n      <td>Manchester City FC</td>\n      <td>57</td>\n      <td>33</td>\n      <td>12</td>\n    </tr>\n    <tr>\n      <th>87</th>\n      <td>2019</td>\n      <td>Leicester City FC</td>\n      <td>53</td>\n      <td>30</td>\n      <td>15</td>\n    </tr>\n    <tr>\n      <th>98</th>\n      <td>2019</td>\n      <td>Chelsea FC</td>\n      <td>48</td>\n      <td>22</td>\n      <td>15</td>\n    </tr>\n    <tr>\n      <th>89</th>\n      <td>2019</td>\n      <td>Manchester United FC</td>\n      <td>45</td>\n      <td>29</td>\n      <td>12</td>\n    </tr>\n  </tbody>\n</table>\n</div>"
     },
     "metadata": {},
     "execution_count": 32
    }
   ],
   "source": [
    "#read the team file to focus on the 3 leagues we want to analyse\n",
    "teams = pd.read_csv(path_teams)\n",
    "\n",
    "#find the 3 leagues for 2015 to 2019\n",
    "country_code = teams[\"Country\"].unique()\n",
    "print(country_code)\n",
    "years = [2015,2016,2017,2018,2019]\n",
    "teams = teams[(teams[\"Country\"].isin([\"ENG\",\"ESP\",\"IT\"]))& (\n",
    "                    teams[\"Year\"].isin(years))]\n",
    "\n",
    "teams = teams[['Team 1','Team 2', 'Year', 'Country',\"FT Team 1\",\"FT Team 2\",'Team 1 (pts)', 'Team 2 (pts)']]\n",
    "\n",
    "eng_teams = teams[teams[\"Country\"]== \"ENG\"]\n",
    "it_teams = teams[teams[\"Country\"]== \"IT\"]\n",
    "spain_teams = teams[teams[\"Country\"]== \"ESP\"]\n",
    "\n",
    "def rankingteams(teams):\n",
    "    ranking = {}\n",
    "    for year in years:\n",
    "        a = teams[teams[\"Year\"]==year]\n",
    "        list = a[\"Team 1\"].unique()\n",
    "        points = [0]*len(list)\n",
    "        goalsp = [0]*len(list)\n",
    "        goalsn = [0]*len(list)\n",
    "        for index,team in enumerate(list):\n",
    "            points[index] += a[a[\"Team 1\"]==team][\"Team 1 (pts)\"].sum()\n",
    "            points[index] += a[a[\"Team 2\"]==team][\"Team 2 (pts)\"].sum()\n",
    "            goalsp[index] += a[a[\"Team 1\"]==team][\"FT Team 1\"].sum()\n",
    "            goalsn[index] += a[a[\"Team 1\"]==team][\"FT Team 2\"].sum()\n",
    "            ranking.setdefault(f\"Year\",[]).append(year)\n",
    "            ranking.setdefault(f\"Teams\",[]).append(team)\n",
    "            ranking.setdefault(f\"Points\",[]).append(points[index])\n",
    "            ranking.setdefault(f\"Goals+\",[]).append(goalsp[index])\n",
    "            ranking.setdefault(f\"Goals-\",[]).append(goalsn[index])\n",
    "    return pd.DataFrame(ranking)\n",
    "ranking_it_df = rankingteams(it_teams)\n",
    "ranking_eng_df = rankingteams(eng_teams)\n",
    "ranking_spain_df = rankingteams(spain_teams)\n",
    "ranking_eng_df.to_csv(\"cleaned/engranking.csv\")\n",
    "# Ranking england\n",
    "ranking_eng_df.sort_values([\"Year\",\"Points\"], ascending = False).head()"
   ]
  },
  {
   "cell_type": "code",
   "execution_count": 33,
   "metadata": {},
   "outputs": [
    {
     "output_type": "execute_result",
     "data": {
      "text/plain": "    Year                      Teams  Points  Goals+  Goals-\n92  2019                  Juventus       63      31      10\n93  2019                  SS Lazio       62      39      10\n89  2019  FC Internazionale Milano       54      23      10\n94  2019               Atalanta BC       48      33      19\n84  2019                   AS Roma       45      26      19",
      "text/html": "<div>\n<style scoped>\n    .dataframe tbody tr th:only-of-type {\n        vertical-align: middle;\n    }\n\n    .dataframe tbody tr th {\n        vertical-align: top;\n    }\n\n    .dataframe thead th {\n        text-align: right;\n    }\n</style>\n<table border=\"1\" class=\"dataframe\">\n  <thead>\n    <tr style=\"text-align: right;\">\n      <th></th>\n      <th>Year</th>\n      <th>Teams</th>\n      <th>Points</th>\n      <th>Goals+</th>\n      <th>Goals-</th>\n    </tr>\n  </thead>\n  <tbody>\n    <tr>\n      <th>92</th>\n      <td>2019</td>\n      <td>Juventus</td>\n      <td>63</td>\n      <td>31</td>\n      <td>10</td>\n    </tr>\n    <tr>\n      <th>93</th>\n      <td>2019</td>\n      <td>SS Lazio</td>\n      <td>62</td>\n      <td>39</td>\n      <td>10</td>\n    </tr>\n    <tr>\n      <th>89</th>\n      <td>2019</td>\n      <td>FC Internazionale Milano</td>\n      <td>54</td>\n      <td>23</td>\n      <td>10</td>\n    </tr>\n    <tr>\n      <th>94</th>\n      <td>2019</td>\n      <td>Atalanta BC</td>\n      <td>48</td>\n      <td>33</td>\n      <td>19</td>\n    </tr>\n    <tr>\n      <th>84</th>\n      <td>2019</td>\n      <td>AS Roma</td>\n      <td>45</td>\n      <td>26</td>\n      <td>19</td>\n    </tr>\n  </tbody>\n</table>\n</div>"
     },
     "metadata": {},
     "execution_count": 33
    }
   ],
   "source": [
    "#ranking Italie\n",
    "ranking_it_df.to_csv(\"cleaned/itranking.csv\")\n",
    "ranking_it_df.sort_values([\"Year\",\"Points\"], ascending = False).head()"
   ]
  },
  {
   "cell_type": "code",
   "execution_count": 34,
   "metadata": {},
   "outputs": [
    {
     "output_type": "execute_result",
     "data": {
      "text/plain": "    Year           Teams  Points  Goals+  Goals-\n95  2019   FC Barcelona       58      45      12\n93  2019    Real Madrid       56      27       9\n96  2019     Sevilla FC       47      19      13\n94  2019      Getafe CF       46      21      13\n97  2019  Real Sociedad       46      27      12",
      "text/html": "<div>\n<style scoped>\n    .dataframe tbody tr th:only-of-type {\n        vertical-align: middle;\n    }\n\n    .dataframe tbody tr th {\n        vertical-align: top;\n    }\n\n    .dataframe thead th {\n        text-align: right;\n    }\n</style>\n<table border=\"1\" class=\"dataframe\">\n  <thead>\n    <tr style=\"text-align: right;\">\n      <th></th>\n      <th>Year</th>\n      <th>Teams</th>\n      <th>Points</th>\n      <th>Goals+</th>\n      <th>Goals-</th>\n    </tr>\n  </thead>\n  <tbody>\n    <tr>\n      <th>95</th>\n      <td>2019</td>\n      <td>FC Barcelona</td>\n      <td>58</td>\n      <td>45</td>\n      <td>12</td>\n    </tr>\n    <tr>\n      <th>93</th>\n      <td>2019</td>\n      <td>Real Madrid</td>\n      <td>56</td>\n      <td>27</td>\n      <td>9</td>\n    </tr>\n    <tr>\n      <th>96</th>\n      <td>2019</td>\n      <td>Sevilla FC</td>\n      <td>47</td>\n      <td>19</td>\n      <td>13</td>\n    </tr>\n    <tr>\n      <th>94</th>\n      <td>2019</td>\n      <td>Getafe CF</td>\n      <td>46</td>\n      <td>21</td>\n      <td>13</td>\n    </tr>\n    <tr>\n      <th>97</th>\n      <td>2019</td>\n      <td>Real Sociedad</td>\n      <td>46</td>\n      <td>27</td>\n      <td>12</td>\n    </tr>\n  </tbody>\n</table>\n</div>"
     },
     "metadata": {},
     "execution_count": 34
    }
   ],
   "source": [
    "#ranking Spain\n",
    "ranking_spain_df.to_csv(\"cleaned/spainranking.csv\")\n",
    "ranking_spain_df.sort_values([\"Year\",\"Points\"], ascending = False).head()"
   ]
  },
  {
   "cell_type": "code",
   "execution_count": null,
   "metadata": {},
   "outputs": [],
   "source": []
  }
 ]
}